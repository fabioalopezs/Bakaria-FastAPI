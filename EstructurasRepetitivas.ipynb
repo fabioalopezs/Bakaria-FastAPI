{
  "nbformat": 4,
  "nbformat_minor": 0,
  "metadata": {
    "colab": {
      "provenance": []
    },
    "kernelspec": {
      "name": "python3",
      "display_name": "Python 3"
    },
    "language_info": {
      "name": "python"
    }
  },
  "cells": [
    {
      "cell_type": "markdown",
      "source": [
        "# Estructuras Repetitivas\n",
        "\n",
        "Las estructuras repetitivas, también conocidas como ciclos o bucles, son fundamentales en programación. Permiten ejecutar un bloque de código múltiples veces de manera eficiente. Python proporciona varias estructuras repetitivas: while, for, bucles anidados, y comprehensions. También existen iteradores y generadores que facilitan la manipulación de datos de forma eficiente.\n",
        "\n",
        "\n",
        "<img src=\"https://img.freepik.com/vector-premium/ilustracion-plana-ciclo-programacion_120816-63883.jpg\" width=300>"
      ],
      "metadata": {
        "id": "yiCn0fCU2jSF"
      }
    },
    {
      "cell_type": "markdown",
      "source": [
        "## Ciclo While\n",
        "\n",
        "El ciclo while ejecuta un bloque de código mientras una condición sea verdadera.\n",
        "\n",
        "\n",
        "\n",
        "```\n",
        "while condicion:\n",
        "    # Bloque de código\n",
        "```\n",
        "\n"
      ],
      "metadata": {
        "id": "NfOO0b9n3KAN"
      }
    },
    {
      "cell_type": "code",
      "execution_count": 1,
      "metadata": {
        "colab": {
          "base_uri": "https://localhost:8080/"
        },
        "id": "jWd1hida2gCF",
        "outputId": "1941fe9b-8f82-4741-ac71-730877f5798f"
      },
      "outputs": [
        {
          "output_type": "stream",
          "name": "stdout",
          "text": [
            "Contador: 0\n",
            "Contador: 1\n",
            "Contador: 2\n",
            "Contador: 3\n",
            "Contador: 4\n"
          ]
        }
      ],
      "source": [
        "contador = 0\n",
        "while contador < 5:\n",
        "    print(f\"Contador: {contador}\")\n",
        "    contador += 1"
      ]
    },
    {
      "cell_type": "markdown",
      "source": [
        "### Ejemplo 1:\n",
        "\n",
        "Escribe un programa que use un ciclo while para contar del 10 al 1 e imprima cada número."
      ],
      "metadata": {
        "id": "qevNWeFC3c4I"
      }
    },
    {
      "cell_type": "code",
      "source": [
        "contador = 10\n",
        "while contador > 0:\n",
        "    print(contador)\n",
        "    contador -= 1"
      ],
      "metadata": {
        "colab": {
          "base_uri": "https://localhost:8080/"
        },
        "id": "tvDFp9Pa3ZR6",
        "outputId": "9e418e04-afc4-4216-d724-1fb64fcdacf8"
      },
      "execution_count": 2,
      "outputs": [
        {
          "output_type": "stream",
          "name": "stdout",
          "text": [
            "10\n",
            "9\n",
            "8\n",
            "7\n",
            "6\n",
            "5\n",
            "4\n",
            "3\n",
            "2\n",
            "1\n"
          ]
        }
      ]
    },
    {
      "cell_type": "markdown",
      "source": [
        "## Ciclo For\n",
        "\n",
        "El ciclo for itera sobre una secuencia (como una lista, tupla o cadena) y ejecuta un bloque de código por cada elemento.\n",
        "\n",
        "\n",
        "\n",
        "```\n",
        "for elemento in secuencia:\n",
        "    # Bloque de código\n",
        "```\n",
        "\n"
      ],
      "metadata": {
        "id": "YXzFEkBY3lJJ"
      }
    },
    {
      "cell_type": "code",
      "source": [
        "nombres = [\"Ana\", \"Carlos\", \"Beatriz\"]\n",
        "for nombre in nombres:\n",
        "    print(f\"Hola, {nombre}!\")"
      ],
      "metadata": {
        "colab": {
          "base_uri": "https://localhost:8080/"
        },
        "id": "4Xva6XsI3fRo",
        "outputId": "ad91d639-618b-47dc-a549-81ea93bf9b55"
      },
      "execution_count": 3,
      "outputs": [
        {
          "output_type": "stream",
          "name": "stdout",
          "text": [
            "Hola, Ana!\n",
            "Hola, Carlos!\n",
            "Hola, Beatriz!\n"
          ]
        }
      ]
    },
    {
      "cell_type": "markdown",
      "source": [
        "### Ejercicio 1:\n",
        "Escribe un programa que use un ciclo para imprimir la posición y el elemento que hay en una lista"
      ],
      "metadata": {
        "id": "ZuN_iMNe9gED"
      }
    },
    {
      "cell_type": "code",
      "source": [
        "v=['a','b','c','d']\n",
        "\n",
        "for i in range(len(v)):\n",
        "    print(i,\"-->\",v[i])"
      ],
      "metadata": {
        "colab": {
          "base_uri": "https://localhost:8080/"
        },
        "id": "0MsVWRz79fzx",
        "outputId": "62a5c810-24f7-497a-d2b2-dfc30f8f1a22"
      },
      "execution_count": 4,
      "outputs": [
        {
          "output_type": "stream",
          "name": "stdout",
          "text": [
            "0 --> a\n",
            "1 --> b\n",
            "2 --> c\n",
            "3 --> d\n"
          ]
        }
      ]
    },
    {
      "cell_type": "markdown",
      "source": [
        "### Ejercicio 2:\n",
        "Escribe un programa que use un ciclo for para imprimir cada letra de la cadena “Python”."
      ],
      "metadata": {
        "id": "fBiSdIdR30W6"
      }
    },
    {
      "cell_type": "code",
      "source": [
        "for letra in \"Python\":\n",
        "    print(letra)"
      ],
      "metadata": {
        "colab": {
          "base_uri": "https://localhost:8080/"
        },
        "id": "09Oxmja63wts",
        "outputId": "e21e2362-0dda-4d40-a9d2-1390f83e5988"
      },
      "execution_count": 5,
      "outputs": [
        {
          "output_type": "stream",
          "name": "stdout",
          "text": [
            "P\n",
            "y\n",
            "t\n",
            "h\n",
            "o\n",
            "n\n"
          ]
        }
      ]
    },
    {
      "cell_type": "markdown",
      "source": [
        "### Ejercicio 3:\n",
        "\n",
        "Escribe un programa que use un ciclo for para imprimir los números del 1 al 10"
      ],
      "metadata": {
        "id": "AwWgnegr36i6"
      }
    },
    {
      "cell_type": "code",
      "source": [
        "for num in range(11):\n",
        "  print(num)"
      ],
      "metadata": {
        "colab": {
          "base_uri": "https://localhost:8080/"
        },
        "id": "UTSkk2Ik33zB",
        "outputId": "8f4f919a-1028-4c7e-fe2d-285b1630ab88"
      },
      "execution_count": 6,
      "outputs": [
        {
          "output_type": "stream",
          "name": "stdout",
          "text": [
            "0\n",
            "1\n",
            "2\n",
            "3\n",
            "4\n",
            "5\n",
            "6\n",
            "7\n",
            "8\n",
            "9\n",
            "10\n"
          ]
        }
      ]
    },
    {
      "cell_type": "markdown",
      "source": [
        "### Ejercicio 4:\n",
        "Escribe un programa que imprima los nombres de una lista y el número de nombre."
      ],
      "metadata": {
        "id": "3fCnhceo4Ni4"
      }
    },
    {
      "cell_type": "code",
      "source": [
        "nombres = [\"Ana\",\"Pedro\",\"Juan\",\"Andres\",\"Pablo\",\"Jimmy\",\"Felix\",\"Sonia\",\"Tania\"]\n",
        "\n",
        "for indice, nombre in enumerate(nombres):\n",
        "  print(f\"Nombre {indice}: {nombre}\")"
      ],
      "metadata": {
        "colab": {
          "base_uri": "https://localhost:8080/"
        },
        "id": "MARQyiS_4Hfj",
        "outputId": "adab1a2b-7cf8-4114-ffb0-dceb63082e41"
      },
      "execution_count": 7,
      "outputs": [
        {
          "output_type": "stream",
          "name": "stdout",
          "text": [
            "Nombre 0: Ana\n",
            "Nombre 1: Pedro\n",
            "Nombre 2: Juan\n",
            "Nombre 3: Andres\n",
            "Nombre 4: Pablo\n",
            "Nombre 5: Jimmy\n",
            "Nombre 6: Felix\n",
            "Nombre 7: Sonia\n",
            "Nombre 8: Tania\n"
          ]
        }
      ]
    },
    {
      "cell_type": "markdown",
      "source": [
        "### Ejercicio 5:\n",
        "\n",
        "Escribe un programa que imprima los nombres de una lista y las direcciones de correo que están en otra lista"
      ],
      "metadata": {
        "id": "c3aNfGQO49fM"
      }
    },
    {
      "cell_type": "code",
      "source": [
        "# Listas de nombres y direcciones de correo\n",
        "nombres = [\"Juan Perez\", \"Maria Gomez\", \"Carlos Sanchez\", \"Ana Martinez\"]\n",
        "correos = [\"juan.perez@example.com\", \"maria.gomez@example.com\", \"carlos.sanchez@example.com\", \"ana.martinez@example.com\"]"
      ],
      "metadata": {
        "id": "sMnKu8xr4w14"
      },
      "execution_count": 8,
      "outputs": []
    },
    {
      "cell_type": "code",
      "source": [
        "# Usar zip para combinar las listas\n",
        "for nombre, correo in zip(nombres, correos):\n",
        "    print(f\"Nombre: {nombre}, Correo: {correo}\")"
      ],
      "metadata": {
        "colab": {
          "base_uri": "https://localhost:8080/"
        },
        "id": "A-dFAeGH5_b2",
        "outputId": "d3faad13-efe3-44c5-b1cf-de3bef1550b0"
      },
      "execution_count": 9,
      "outputs": [
        {
          "output_type": "stream",
          "name": "stdout",
          "text": [
            "Nombre: Juan Perez, Correo: juan.perez@example.com\n",
            "Nombre: Maria Gomez, Correo: maria.gomez@example.com\n",
            "Nombre: Carlos Sanchez, Correo: carlos.sanchez@example.com\n",
            "Nombre: Ana Martinez, Correo: ana.martinez@example.com\n"
          ]
        }
      ]
    },
    {
      "cell_type": "markdown",
      "source": [
        "### Ejemplos\n",
        "\n",
        "Realiza un algoritmo que cuente las vocales de un `string``"
      ],
      "metadata": {
        "id": "Dr91_oIR927i"
      }
    },
    {
      "cell_type": "code",
      "source": [
        "frase = \"Anita lava la tina\"\n",
        "k = 0\n",
        "\n",
        "for letra in frase.lower():\n",
        "    if letra in (\"a\",\"e\",\"i\",\"o\",\"u\"): # Explicar la sentencia in para buscar elementos\n",
        "        k += 1\n",
        "\n",
        "print(f\"Hay {k} vocales\")"
      ],
      "metadata": {
        "colab": {
          "base_uri": "https://localhost:8080/"
        },
        "id": "YDFdg_0I9-Lw",
        "outputId": "efb9da3c-9748-4b35-ded7-80a697782eac"
      },
      "execution_count": 10,
      "outputs": [
        {
          "output_type": "stream",
          "name": "stdout",
          "text": [
            "Hay 8 vocales\n"
          ]
        }
      ]
    },
    {
      "cell_type": "code",
      "source": [
        "# Realiza un programa que haga un triangulo de caracteres\n",
        "n = 10\n",
        "for k in range(1,n+1):\n",
        "    print(\"*\" * k)"
      ],
      "metadata": {
        "colab": {
          "base_uri": "https://localhost:8080/"
        },
        "id": "e-Hp765D-ceg",
        "outputId": "b0e0b5f7-6d9c-48a9-8907-7767c1d856be"
      },
      "execution_count": 13,
      "outputs": [
        {
          "output_type": "stream",
          "name": "stdout",
          "text": [
            "*\n",
            "**\n",
            "***\n",
            "****\n",
            "*****\n",
            "******\n",
            "*******\n",
            "********\n",
            "*********\n",
            "**********\n"
          ]
        }
      ]
    },
    {
      "cell_type": "markdown",
      "source": [
        "## Ciclos anidados\n",
        "\n",
        "Puedes anidar ciclos for y while dentro de otros ciclos para iterar sobre estructuras de datos más complejas."
      ],
      "metadata": {
        "id": "od9CLTuo_ENI"
      }
    },
    {
      "cell_type": "code",
      "source": [
        "matriz = [[1, 2, 3], [4, 5, 6], [7, 8, 9]]\n",
        "for fila in matriz:\n",
        "    for elemento in fila:\n",
        "        print(elemento, end=\" \")\n",
        "    print()"
      ],
      "metadata": {
        "colab": {
          "base_uri": "https://localhost:8080/"
        },
        "id": "ExvMtbn7_bsT",
        "outputId": "5023e471-7873-4f55-ffb6-3d9346180b55"
      },
      "execution_count": 14,
      "outputs": [
        {
          "output_type": "stream",
          "name": "stdout",
          "text": [
            "1 2 3 \n",
            "4 5 6 \n",
            "7 8 9 \n"
          ]
        }
      ]
    },
    {
      "cell_type": "markdown",
      "source": [
        "### Ejemplo 1:\n",
        "Escribe un programa que use ciclos anidados para imprimir cada combinación de números del 1 al 3 con las letras ‘A’ y ‘B’."
      ],
      "metadata": {
        "id": "ORtFFK5a_gAD"
      }
    },
    {
      "cell_type": "code",
      "source": [
        "# Solución\n",
        "for numero in range(1, 4):\n",
        "    for letra in [\"A\", \"B\"]:\n",
        "        print(f\"{numero}{letra}\")"
      ],
      "metadata": {
        "colab": {
          "base_uri": "https://localhost:8080/"
        },
        "id": "hd1FlfZN_iHn",
        "outputId": "4a00ec4b-d0ac-4f3b-80e1-4eb9bb9c8f8a"
      },
      "execution_count": 15,
      "outputs": [
        {
          "output_type": "stream",
          "name": "stdout",
          "text": [
            "1A\n",
            "1B\n",
            "2A\n",
            "2B\n",
            "3A\n",
            "3B\n"
          ]
        }
      ]
    },
    {
      "cell_type": "markdown",
      "source": [
        "## List comprehensions\n",
        "\n",
        "Las comprehensions son una forma concisa de crear listas, diccionarios o conjuntos en Python."
      ],
      "metadata": {
        "id": "im3Q3eoX_oqG"
      }
    },
    {
      "cell_type": "code",
      "source": [
        "cuadrados = [x**2 for x in range(10)]\n",
        "print(cuadrados)"
      ],
      "metadata": {
        "colab": {
          "base_uri": "https://localhost:8080/"
        },
        "id": "f9x7u99S_wbU",
        "outputId": "6c028a4c-4920-4772-e37e-57c0e3137be8"
      },
      "execution_count": 21,
      "outputs": [
        {
          "output_type": "stream",
          "name": "stdout",
          "text": [
            "[0, 1, 4, 9, 16, 25, 36, 49, 64, 81]\n"
          ]
        }
      ]
    },
    {
      "cell_type": "markdown",
      "source": [
        "### Ejemplo 2:\n",
        "\n",
        "Escribe una lista comprehension para crear una lista de los primeros 10 números al cubo."
      ],
      "metadata": {
        "id": "GFdj2Jol_0A3"
      }
    },
    {
      "cell_type": "code",
      "source": [
        "cubos = [x**3 for x in range(1, 11)]\n",
        "print(cubos)"
      ],
      "metadata": {
        "colab": {
          "base_uri": "https://localhost:8080/"
        },
        "id": "kDxHPOL4_45w",
        "outputId": "9a0e37aa-7922-46e7-a386-bc97f2056baf"
      },
      "execution_count": 20,
      "outputs": [
        {
          "output_type": "stream",
          "name": "stdout",
          "text": [
            "[1, 8, 27, 64, 125, 216, 343, 512, 729, 1000]\n"
          ]
        }
      ]
    },
    {
      "cell_type": "markdown",
      "source": [
        "### Diccionario comprehensions\n",
        "\n"
      ],
      "metadata": {
        "id": "iBLa5wjC_-5W"
      }
    },
    {
      "cell_type": "code",
      "source": [
        "cuadrados = {x: x**2 for x in range(10)}\n",
        "print(cuadrados)"
      ],
      "metadata": {
        "colab": {
          "base_uri": "https://localhost:8080/"
        },
        "id": "JQBQ_Kpd_93-",
        "outputId": "f9384167-f0b8-47c5-ed26-bd4e12773b7a"
      },
      "execution_count": 22,
      "outputs": [
        {
          "output_type": "stream",
          "name": "stdout",
          "text": [
            "{0: 0, 1: 1, 2: 4, 3: 9, 4: 16, 5: 25, 6: 36, 7: 49, 8: 64, 9: 81}\n"
          ]
        }
      ]
    },
    {
      "cell_type": "markdown",
      "source": [
        "## Ejercicios\n",
        "\n",
        "Vamos a resolver los siguientes ejercicios"
      ],
      "metadata": {
        "id": "g3NYzku6AL4N"
      }
    },
    {
      "cell_type": "markdown",
      "source": [
        "### Ejercicio 1: Análisis de Asistencia\n",
        "\n",
        "Crea un programa que analice la asistencia de empleados en una institución pública. Debe permitir ingresar el nombre de cada empleado y si asistió o no en una lista de días. Luego, debe calcular el porcentaje de asistencia de cada empleado y mostrar un resumen.\n",
        "\n",
        "1.\tCrear una lista de empleados.\n",
        "2.\tPara cada empleado, crear una lista de asistencia (True para asistió, False para no asistió).\n",
        "3.\tCalcular el porcentaje de asistencia.\n",
        "4.\tImprimir un resumen."
      ],
      "metadata": {
        "id": "ZWy2TXYuAU9r"
      }
    },
    {
      "cell_type": "code",
      "source": [
        "# Solución\n",
        "empleados = {\n",
        "    \"Juan\": [True, False, True, True, False],\n",
        "    \"Ana\": [True, True, True, False, True],\n",
        "    \"Carlos\": [False, False, True, True, True]\n",
        "}\n",
        "\n",
        "for nombre, asistencias in empleados.items():\n",
        "    porcentaje_asistencia = sum(asistencias) / len(asistencias) * 100\n",
        "    print(f\"{nombre}: {porcentaje_asistencia}% de asistencia\")"
      ],
      "metadata": {
        "colab": {
          "base_uri": "https://localhost:8080/"
        },
        "id": "1tGtxrcQATZY",
        "outputId": "518c8ce6-db22-407e-8f87-5e5ebddd0ccf"
      },
      "execution_count": 26,
      "outputs": [
        {
          "output_type": "stream",
          "name": "stdout",
          "text": [
            "Juan: 60.0% de asistencia\n",
            "Ana: 80.0% de asistencia\n",
            "Carlos: 60.0% de asistencia\n"
          ]
        }
      ]
    },
    {
      "cell_type": "markdown",
      "source": [
        "### Ejercicio 1: Registro de Equipos Informáticos\n",
        "\n",
        "Crea un programa que gestione el registro de equipos informáticos en una institución pública. Debe permitir ingresar el nombre del equipo, su tipo (computadora, impresora, escáner, etc.), y su estado (operativo, en reparación, dado de baja). Luego, debe permitir actualizar el estado de un equipo específico y mostrar un resumen del inventario.\n",
        "\n",
        "1.\tCrear un diccionario para el inventario.\n",
        "2.\tAgregar al menos tres equipos con su tipo y estado.\n",
        "3.\tPermitir actualizar el estado de un equipo.\n",
        "4.\tImprimir un resumen del inventario."
      ],
      "metadata": {
        "id": "ubn9X_GkAjZV"
      }
    },
    {
      "cell_type": "code",
      "source": [
        "# Solución\n",
        "inventario = {\n",
        "    \"Equipo1\": {\"tipo\": \"Computadora\", \"estado\": \"operativo\"},\n",
        "    \"Equipo2\": {\"tipo\": \"Impresora\", \"estado\": \"en reparación\"},\n",
        "    \"Equipo3\": {\"tipo\": \"Escáner\", \"estado\": \"dado de baja\"}\n",
        "}\n",
        "\n",
        "# Actualizar estado de un equipo\n",
        "inventario[\"Equipo1\"][\"estado\"] = \"en reparación\"\n",
        "\n",
        "# Imprimir resumen del inventario\n",
        "for equipo, datos in inventario.items():\n",
        "    print(f\"{equipo}: Tipo={datos['tipo']}, Estado={datos['estado']}\")"
      ],
      "metadata": {
        "colab": {
          "base_uri": "https://localhost:8080/"
        },
        "id": "CeFnebm2Ap6k",
        "outputId": "6e33a051-6a4a-4e0f-be3c-f75342a39af9"
      },
      "execution_count": 28,
      "outputs": [
        {
          "output_type": "stream",
          "name": "stdout",
          "text": [
            "Equipo1: Tipo=Computadora, Estado=en reparación\n",
            "Equipo2: Tipo=Impresora, Estado=en reparación\n",
            "Equipo3: Tipo=Escáner, Estado=dado de baja\n"
          ]
        }
      ]
    },
    {
      "cell_type": "markdown",
      "source": [
        "### Ejercicio en clase: Registro de Actividades Diarias\n",
        "\n",
        "Crea un programa para registrar las actividades diarias de empleados en una institución pública. El programa debe permitir agregar actividades con la duración en minutos. Luego, debe calcular el total de tiempo dedicado a las actividades y mostrar un resumen.\n",
        "\n",
        "1.\tCrear una lista de actividades.\n",
        "2.\tAgregar al menos cinco actividades con su duración.\n",
        "3.\tCalcular el total de tiempo dedicado.\n",
        "4.\tImprimir un resumen de las actividades y el tiempo total."
      ],
      "metadata": {
        "id": "xWiVvzJRA127"
      }
    },
    {
      "cell_type": "code",
      "source": [
        "# Tu código acá\n",
        "actividades = []\n",
        "\n",
        "# Función para agregar actividades\n",
        "def agregar_actividad(nombre, duracion):\n",
        "    actividades.append({\"nombre\": nombre, \"duracion\": duracion})\n",
        "\n",
        "# Función para imprimir el resumen de actividades y tiempo total\n",
        "def imprimir_resumen(actividades, tiempo_total):\n",
        "    print(\"Resumen de actividades diarias:\")\n",
        "    for actividad in actividades:\n",
        "        print(f\"- {actividad['nombre']}: {actividad['duracion']} minutos\")\n",
        "    print(f\"\\nTiempo total dedicado: {tiempo_total} minutos\")\n",
        "\n",
        "# Agregar actividades\n",
        "agregar_actividad(\"Reunión de equipo\", 60)\n",
        "agregar_actividad(\"Elaboración de informe\", 120)\n",
        "agregar_actividad(\"Atención al público\", 90)\n",
        "agregar_actividad(\"Capacitación\", 150)\n",
        "agregar_actividad(\"Revisión de documentos\", 45)\n",
        "\n",
        "# Calcular el tiempo total dedicado\n",
        "tiempo_total = sum(actividad[\"duracion\"] for actividad in actividades)\n",
        "\n",
        "# Imprimir el resumen de actividades y tiempo total\n",
        "imprimir_resumen(actividades, tiempo_total)"
      ],
      "metadata": {
        "id": "C13YVFQDA7HU",
        "outputId": "7a9add4f-4547-453c-fbb9-fcf05a0b1c81",
        "colab": {
          "base_uri": "https://localhost:8080/"
        }
      },
      "execution_count": 31,
      "outputs": [
        {
          "output_type": "stream",
          "name": "stdout",
          "text": [
            "Resumen de actividades diarias:\n",
            "- Reunión de equipo: 60 minutos\n",
            "- Elaboración de informe: 120 minutos\n",
            "- Atención al público: 90 minutos\n",
            "- Capacitación: 150 minutos\n",
            "- Revisión de documentos: 45 minutos\n",
            "\n",
            "Tiempo total dedicado: 465 minutos\n"
          ]
        }
      ]
    },
    {
      "cell_type": "markdown",
      "source": [
        "## Reto 1: Gestión de Incidentes\n",
        "\n",
        "**Contexto:** Trabajas en el departamento de TI de un ministerio y necesitas gestionar un registro de incidentes de seguridad.\n",
        "\n",
        "**Descripción del reto:**\n",
        "\n",
        "1.\tCrea un programa que lea una lista de incidentes de seguridad registrados en un sistema.\n",
        "2.\tCada incidente debe tener un identificador único, una descripción, una fecha y un estado (abierto, en progreso, cerrado).\n",
        "3.\tUsa un ciclo while para permitir a un administrador realizar las siguientes acciones en un menú:\n",
        "  *\tMostrar todos los incidentes.\n",
        "  *\tFiltrar incidentes por estado.\n",
        "  *\tActualizar el estado de un incidente específico.\n",
        "  *\tSalir del programa."
      ],
      "metadata": {
        "id": "tajtqFVG7R89"
      }
    },
    {
      "cell_type": "code",
      "source": [
        "incidentes = [\n",
        "    {\"id\": 1, \"descripcion\": \"Acceso no autorizado\", \"fecha\": \"2024-06-01\", \"estado\": \"abierto\"},\n",
        "    {\"id\": 2, \"descripcion\": \"Intento de phishing\", \"fecha\": \"2024-06-02\", \"estado\": \"en progreso\"},\n",
        "    {\"id\": 3, \"descripcion\": \"Malware detectado\", \"fecha\": \"2024-06-03\", \"estado\": \"cerrado\"}\n",
        "]\n",
        "\n",
        "def mostrar_incidentes(lista_incidentes):\n",
        "    print(\"\\nLista de incidentes:\")\n",
        "    for incidente in lista_incidentes:\n",
        "        print(f\"ID: {incidente['id']}, Descripción: {incidente['descripcion']}, Fecha: {incidente['fecha']}, Estado: {incidente['estado']}\")\n",
        "\n",
        "def filtrar_por_estado(lista_incidentes, estado_filtro):\n",
        "    incidentes_filtrados = [incidente for incidente in lista_incidentes if incidente['estado'] == estado_filtro]\n",
        "    mostrar_incidentes(incidentes_filtrados)\n",
        "\n",
        "def actualizar_estado(lista_incidentes, id_incidente, nuevo_estado):\n",
        "    for incidente in lista_incidentes:\n",
        "        if incidente['id'] == id_incidente:\n",
        "            incidente['estado'] = nuevo_estado\n",
        "            print(f\"Incidente {id_incidente} actualizado a estado '{nuevo_estado}'.\")\n",
        "            return\n",
        "    print(f\"No se encontró un incidente con ID {id_incidente}.\")\n",
        "\n",
        "while True:\n",
        "    print(\"\\n--- Menú de Gestión de Incidentes ---\")\n",
        "    print(\"1. Mostrar todos los incidentes\")\n",
        "    print(\"2. Filtrar incidentes por estado\")\n",
        "    print(\"3. Actualizar estado de incidente\")\n",
        "    print(\"4. Salir\")\n",
        "\n",
        "    opcion = input(\"Seleccione una opción: \")\n",
        "\n",
        "    if opcion == \"1\":\n",
        "        mostrar_incidentes(incidentes)\n",
        "    elif opcion == \"2\":\n",
        "        estado_filtro = input(\"Ingrese el estado a filtrar (abierto, en progreso, cerrado): \")\n",
        "        filtrar_por_estado(incidentes, estado_filtro)\n",
        "    elif opcion == \"3\":\n",
        "        id_actualizar = int(input(\"Ingrese el ID del incidente a actualizar: \"))\n",
        "        nuevo_estado = input(\"Ingrese el nuevo estado (abierto, en progreso, cerrado): \")\n",
        "        actualizar_estado(incidentes, id_actualizar, nuevo_estado)\n",
        "    elif opcion == \"4\":\n",
        "        print(\"Saliendo del programa...\")\n",
        "        break\n",
        "    else:\n",
        "        print(\"Opción inválida. Intente de nuevo.\")"
      ],
      "metadata": {
        "id": "eHAVcywQ6AEY",
        "outputId": "ed2a267c-5fd7-4678-eae5-42d43fadc27d",
        "colab": {
          "base_uri": "https://localhost:8080/",
          "height": 460
        }
      },
      "execution_count": 33,
      "outputs": [
        {
          "output_type": "stream",
          "name": "stdout",
          "text": [
            "\n",
            "--- Menú de Gestión de Incidentes ---\n",
            "1. Mostrar todos los incidentes\n",
            "2. Filtrar incidentes por estado\n",
            "3. Actualizar estado de incidente\n",
            "4. Salir\n"
          ]
        },
        {
          "output_type": "error",
          "ename": "KeyboardInterrupt",
          "evalue": "Interrupted by user",
          "traceback": [
            "\u001b[0;31m---------------------------------------------------------------------------\u001b[0m",
            "\u001b[0;31mKeyboardInterrupt\u001b[0m                         Traceback (most recent call last)",
            "\u001b[0;32m<ipython-input-33-0d0db32c41e0>\u001b[0m in \u001b[0;36m<cell line: 0>\u001b[0;34m()\u001b[0m\n\u001b[1;32m     29\u001b[0m     \u001b[0mprint\u001b[0m\u001b[0;34m(\u001b[0m\u001b[0;34m\"4. Salir\"\u001b[0m\u001b[0;34m)\u001b[0m\u001b[0;34m\u001b[0m\u001b[0;34m\u001b[0m\u001b[0m\n\u001b[1;32m     30\u001b[0m \u001b[0;34m\u001b[0m\u001b[0m\n\u001b[0;32m---> 31\u001b[0;31m     \u001b[0mopcion\u001b[0m \u001b[0;34m=\u001b[0m \u001b[0minput\u001b[0m\u001b[0;34m(\u001b[0m\u001b[0;34m\"Seleccione una opción: \"\u001b[0m\u001b[0;34m)\u001b[0m\u001b[0;34m\u001b[0m\u001b[0;34m\u001b[0m\u001b[0m\n\u001b[0m\u001b[1;32m     32\u001b[0m \u001b[0;34m\u001b[0m\u001b[0m\n\u001b[1;32m     33\u001b[0m     \u001b[0;32mif\u001b[0m \u001b[0mopcion\u001b[0m \u001b[0;34m==\u001b[0m \u001b[0;34m\"1\"\u001b[0m\u001b[0;34m:\u001b[0m\u001b[0;34m\u001b[0m\u001b[0;34m\u001b[0m\u001b[0m\n",
            "\u001b[0;32m/usr/local/lib/python3.11/dist-packages/ipykernel/kernelbase.py\u001b[0m in \u001b[0;36mraw_input\u001b[0;34m(self, prompt)\u001b[0m\n\u001b[1;32m   1175\u001b[0m                 \u001b[0;34m\"raw_input was called, but this frontend does not support input requests.\"\u001b[0m\u001b[0;34m\u001b[0m\u001b[0;34m\u001b[0m\u001b[0m\n\u001b[1;32m   1176\u001b[0m             )\n\u001b[0;32m-> 1177\u001b[0;31m         return self._input_request(\n\u001b[0m\u001b[1;32m   1178\u001b[0m             \u001b[0mstr\u001b[0m\u001b[0;34m(\u001b[0m\u001b[0mprompt\u001b[0m\u001b[0;34m)\u001b[0m\u001b[0;34m,\u001b[0m\u001b[0;34m\u001b[0m\u001b[0;34m\u001b[0m\u001b[0m\n\u001b[1;32m   1179\u001b[0m             \u001b[0mself\u001b[0m\u001b[0;34m.\u001b[0m\u001b[0m_parent_ident\u001b[0m\u001b[0;34m[\u001b[0m\u001b[0;34m\"shell\"\u001b[0m\u001b[0;34m]\u001b[0m\u001b[0;34m,\u001b[0m\u001b[0;34m\u001b[0m\u001b[0;34m\u001b[0m\u001b[0m\n",
            "\u001b[0;32m/usr/local/lib/python3.11/dist-packages/ipykernel/kernelbase.py\u001b[0m in \u001b[0;36m_input_request\u001b[0;34m(self, prompt, ident, parent, password)\u001b[0m\n\u001b[1;32m   1217\u001b[0m             \u001b[0;32mexcept\u001b[0m \u001b[0mKeyboardInterrupt\u001b[0m\u001b[0;34m:\u001b[0m\u001b[0;34m\u001b[0m\u001b[0;34m\u001b[0m\u001b[0m\n\u001b[1;32m   1218\u001b[0m                 \u001b[0;31m# re-raise KeyboardInterrupt, to truncate traceback\u001b[0m\u001b[0;34m\u001b[0m\u001b[0;34m\u001b[0m\u001b[0m\n\u001b[0;32m-> 1219\u001b[0;31m                 \u001b[0;32mraise\u001b[0m \u001b[0mKeyboardInterrupt\u001b[0m\u001b[0;34m(\u001b[0m\u001b[0;34m\"Interrupted by user\"\u001b[0m\u001b[0;34m)\u001b[0m \u001b[0;32mfrom\u001b[0m \u001b[0;32mNone\u001b[0m\u001b[0;34m\u001b[0m\u001b[0;34m\u001b[0m\u001b[0m\n\u001b[0m\u001b[1;32m   1220\u001b[0m             \u001b[0;32mexcept\u001b[0m \u001b[0mException\u001b[0m\u001b[0;34m:\u001b[0m\u001b[0;34m\u001b[0m\u001b[0;34m\u001b[0m\u001b[0m\n\u001b[1;32m   1221\u001b[0m                 \u001b[0mself\u001b[0m\u001b[0;34m.\u001b[0m\u001b[0mlog\u001b[0m\u001b[0;34m.\u001b[0m\u001b[0mwarning\u001b[0m\u001b[0;34m(\u001b[0m\u001b[0;34m\"Invalid Message:\"\u001b[0m\u001b[0;34m,\u001b[0m \u001b[0mexc_info\u001b[0m\u001b[0;34m=\u001b[0m\u001b[0;32mTrue\u001b[0m\u001b[0;34m)\u001b[0m\u001b[0;34m\u001b[0m\u001b[0;34m\u001b[0m\u001b[0m\n",
            "\u001b[0;31mKeyboardInterrupt\u001b[0m: Interrupted by user"
          ]
        }
      ]
    },
    {
      "cell_type": "code",
      "source": [
        "incidentes = [\n",
        "    {\"id\": 1, \"descripcion\": \"Acceso no autorizado\", \"fecha\": \"2024-06-01\", \"estado\": \"abierto\"},\n",
        "    {\"id\": 2, \"descripcion\": \"Intento de phishing\", \"fecha\": \"2024-06-02\", \"estado\": \"en progreso\"},\n",
        "    {\"id\": 3, \"descripcion\": \"Malware detectado\", \"fecha\": \"2024-06-03\", \"estado\": \"cerrado\"}\n",
        "]\n",
        "\n",
        "def mostrar_incidentes(lista_incidentes):\n",
        "    print(\"\\nLista de incidentes:\")\n",
        "    for incidente in lista_incidentes:\n",
        "        print(f\"ID: {incidente['id']}, Descripción: {incidente['descripcion']}, Fecha: {incidente['fecha']}, Estado: {incidente['estado']}\")\n",
        "\n",
        "def filtrar_por_estado(lista_incidentes, estado_filtro):\n",
        "    incidentes_filtrados = [incidente for incidente in lista_incidentes if incidente['estado'] == estado_filtro]\n",
        "    mostrar_incidentes(incidentes_filtrados)\n",
        "\n",
        "def actualizar_estado(lista_incidentes, id_incidente, nuevo_estado):\n",
        "    for incidente in lista_incidentes:\n",
        "        if incidente['id'] == id_incidente:\n",
        "            incidente['estado'] = nuevo_estado\n",
        "            print(f\"Incidente {id_incidente} actualizado a estado '{nuevo_estado}'.\")\n",
        "            return\n",
        "    print(f\"No se encontró un incidente con ID {id_incidente}.\")\n",
        "\n",
        "while True:\n",
        "    print(\"\\n--- Menú de Gestión de Incidentes ---\")\n",
        "    print(\"1. Mostrar todos los incidentes\")\n",
        "    print(\"2. Filtrar incidentes por estado\")\n",
        "    print(\"3. Actualizar estado de incidente\")\n",
        "    print(\"4. Salir\")\n",
        "\n",
        "    try:\n",
        "        opcion = input(\"Seleccione una opción: \")\n",
        "    except KeyboardInterrupt:\n",
        "        print(\"\\nPrograma interrumpido por el usuario. Saliendo...\")\n",
        "        break\n",
        "\n",
        "    if opcion == \"1\":\n",
        "        mostrar_incidentes(incidentes)\n",
        "    elif opcion == \"2\":\n",
        "        estado_filtro = input(\"Ingrese el estado a filtrar (abierto, en progreso, cerrado): \")\n",
        "        filtrar_por_estado(incidentes, estado_filtro)\n",
        "    elif opcion == \"3\":\n",
        "        id_actualizar = int(input(\"Ingrese el ID del incidente a actualizar: \"))\n",
        "        nuevo_estado = input(\"Ingrese el nuevo estado (abierto, en progreso, cerrado): \")\n",
        "        actualizar_estado(incidentes, id_actualizar, nuevo_estado)\n",
        "    elif opcion == \"4\":\n",
        "        print(\"Saliendo del programa...\")\n",
        "        break\n",
        "    else:\n",
        "        print(\"Opción inválida. Intente de nuevo.\")"
      ],
      "metadata": {
        "id": "PsxEiSRDCCGB",
        "outputId": "ea7ec87b-a63c-4490-9450-74cd89d794ca",
        "colab": {
          "base_uri": "https://localhost:8080/"
        }
      },
      "execution_count": 34,
      "outputs": [
        {
          "output_type": "stream",
          "name": "stdout",
          "text": [
            "\n",
            "--- Menú de Gestión de Incidentes ---\n",
            "1. Mostrar todos los incidentes\n",
            "2. Filtrar incidentes por estado\n",
            "3. Actualizar estado de incidente\n",
            "4. Salir\n",
            "Seleccione una opción: 1\n",
            "\n",
            "Lista de incidentes:\n",
            "ID: 1, Descripción: Acceso no autorizado, Fecha: 2024-06-01, Estado: abierto\n",
            "ID: 2, Descripción: Intento de phishing, Fecha: 2024-06-02, Estado: en progreso\n",
            "ID: 3, Descripción: Malware detectado, Fecha: 2024-06-03, Estado: cerrado\n",
            "\n",
            "--- Menú de Gestión de Incidentes ---\n",
            "1. Mostrar todos los incidentes\n",
            "2. Filtrar incidentes por estado\n",
            "3. Actualizar estado de incidente\n",
            "4. Salir\n",
            "Seleccione una opción: 2\n",
            "Ingrese el estado a filtrar (abierto, en progreso, cerrado): abierto\n",
            "\n",
            "Lista de incidentes:\n",
            "ID: 1, Descripción: Acceso no autorizado, Fecha: 2024-06-01, Estado: abierto\n",
            "\n",
            "--- Menú de Gestión de Incidentes ---\n",
            "1. Mostrar todos los incidentes\n",
            "2. Filtrar incidentes por estado\n",
            "3. Actualizar estado de incidente\n",
            "4. Salir\n",
            "\n",
            "Programa interrumpido por el usuario. Saliendo...\n"
          ]
        }
      ]
    },
    {
      "cell_type": "markdown",
      "source": [
        "## Reto 2: Análisis de Datos de Salud\n",
        "\n",
        "**Contexto:** Eres analista en una institución que audita empresas de salud y necesitas analizar los datos de salud de los pacientes.\n",
        "\n",
        "**Descripción del reto:**\n",
        "\n",
        "1.\tCrea un programa que lea un conjunto de datos de salud de pacientes, donde cada paciente tenga un identificador único, nombre, edad y una lista de diagnósticos.\n",
        "2.\tUsa un ciclo for para iterar sobre los pacientes y realizar las siguientes tareas:\n",
        "\t+\tImprimir el nombre y la edad de cada paciente.\n",
        "\t+\tContar cuántos pacientes tienen más de 60 años.\n",
        "\t+\tImprimir un informe de los diagnósticos más comunes entre los pacientes."
      ],
      "metadata": {
        "id": "U3qvFE3L7l0X"
      }
    },
    {
      "cell_type": "code",
      "source": [
        "pacientes = [\n",
        "    {\"id\": 1, \"nombre\": \"Juan Perez\", \"edad\": 45, \"diagnosticos\": [\"Hipertensión\", \"Diabetes\"]},\n",
        "    {\"id\": 2, \"nombre\": \"Maria Gomez\", \"edad\": 70, \"diagnosticos\": [\"Artritis\"]},\n",
        "    {\"id\": 3, \"nombre\": \"Carlos Sanchez\", \"edad\": 65, \"diagnosticos\": [\"Hipertensión\"]}\n",
        "]\n",
        "\n",
        "# Tu código va acá\n",
        "\n",
        "mayores_60 = 0\n",
        "diagnosticos_comunes = {}\n",
        "\n",
        "for paciente in pacientes:\n",
        "    # Imprimir nombre y edad\n",
        "    print(f\"Nombre: {paciente['nombre']}, Edad: {paciente['edad']}\")\n",
        "\n",
        "    # Contar pacientes mayores de 60 años\n",
        "    if paciente[\"edad\"] > 60:\n",
        "        mayores_60 += 1\n",
        "\n",
        "    # Contar diagnósticos comunes\n",
        "    for diagnostico in paciente[\"diagnosticos\"]:\n",
        "        if diagnostico in diagnosticos_comunes:\n",
        "            diagnosticos_comunes[diagnostico] += 1\n",
        "        else:\n",
        "            diagnosticos_comunes[diagnostico] = 1\n",
        "\n",
        "# Imprimir informe de diagnósticos comunes\n",
        "print(\"\\nDiagnósticos más comunes:\")\n",
        "for diagnostico, conteo in diagnosticos_comunes.items():\n",
        "    print(f\"- {diagnostico}: {conteo} pacientes\")\n",
        "\n",
        "# Imprimir cantidad de pacientes mayores de 60 años\n",
        "print(f\"\\nPacientes mayores de 60 años: {mayores_60}\")"
      ],
      "metadata": {
        "id": "2kA-aYG_7eSa",
        "outputId": "0d648b62-4a06-4004-f94f-7426008bc87c",
        "colab": {
          "base_uri": "https://localhost:8080/"
        }
      },
      "execution_count": 35,
      "outputs": [
        {
          "output_type": "stream",
          "name": "stdout",
          "text": [
            "Nombre: Juan Perez, Edad: 45\n",
            "Nombre: Maria Gomez, Edad: 70\n",
            "Nombre: Carlos Sanchez, Edad: 65\n",
            "\n",
            "Diagnósticos más comunes:\n",
            "- Hipertensión: 2 pacientes\n",
            "- Diabetes: 1 pacientes\n",
            "- Artritis: 1 pacientes\n",
            "\n",
            "Pacientes mayores de 60 años: 2\n"
          ]
        }
      ]
    },
    {
      "cell_type": "code",
      "source": [],
      "metadata": {
        "id": "rs_oEyQY9w4j"
      },
      "execution_count": null,
      "outputs": []
    },
    {
      "cell_type": "markdown",
      "source": [
        "## Reto 3: Registro de Asistencia\n",
        "\n",
        "Crea un programa que registre la asistencia de empleados en una institución pública. El programa debe permitir agregar registros de asistencia diaria (nombre del empleado, fecha, asistencia: True/False). Luego, debe calcular el porcentaje de asistencia de cada empleado y mostrar un resumen.\n",
        "\n",
        "1.\tCrear una lista de registros de asistencia.\n",
        "2.\tAgregar al menos cinco registros con nombre del empleado, fecha y asistencia.\n",
        "3.\tCalcular el porcentaje de asistencia de cada empleado.\n",
        "4.\tImprimir un resumen de la asistencia de todos los empleados."
      ],
      "metadata": {
        "id": "ah9Pm4cBBfeP"
      }
    },
    {
      "cell_type": "code",
      "source": [
        "# Lista para almacenar los registros de asistencia\n",
        "asistencia_registros = []\n",
        "\n",
        "# Función para agregar registros de asistencia\n",
        "def registrar_asistencia(nombre, fecha, presente):\n",
        "    asistencia_registros.append({\"nombre\": nombre, \"fecha\": fecha, \"asistencia\": presente})\n",
        "\n",
        "# Agregar al menos cinco registros\n",
        "registrar_asistencia(\"Juan Pérez\", \"2024-03-01\", True)\n",
        "registrar_asistencia(\"María López\", \"2024-03-01\", False)\n",
        "registrar_asistencia(\"Carlos Gómez\", \"2024-03-01\", True)\n",
        "registrar_asistencia(\"Ana Torres\", \"2024-03-01\", True)\n",
        "registrar_asistencia(\"Juan Pérez\", \"2024-03-02\", False)\n",
        "registrar_asistencia(\"María López\", \"2024-03-02\", True)\n",
        "registrar_asistencia(\"Carlos Gómez\", \"2024-03-02\", True)\n",
        "registrar_asistencia(\"Ana Torres\", \"2024-03-02\", True)\n",
        "\n",
        "# Función para calcular el porcentaje de asistencia\n",
        "def calcular_asistencia():\n",
        "    asistencia_contador = {}\n",
        "    asistencia_total = {}\n",
        "\n",
        "    # Contar asistencia y total de registros por empleado\n",
        "    for registro in asistencia_registros:\n",
        "        nombre = registro[\"nombre\"]\n",
        "        if nombre not in asistencia_contador:\n",
        "            asistencia_contador[nombre] = 0\n",
        "            asistencia_total[nombre] = 0\n",
        "        asistencia_total[nombre] += 1\n",
        "        if registro[\"asistencia\"]:\n",
        "            asistencia_contador[nombre] += 1\n",
        "\n",
        "    # Calcular porcentaje\n",
        "    porcentaje_asistencia = {\n",
        "        nombre: (asistencia_contador[nombre] / asistencia_total[nombre]) * 100\n",
        "        for nombre in asistencia_contador\n",
        "    }\n",
        "\n",
        "    return porcentaje_asistencia\n",
        "\n",
        "# Obtener y mostrar el resumen\n",
        "resumen_asistencia = calcular_asistencia()\n",
        "\n",
        "print(\"\\n📊 **Resumen de Asistencia**\")\n",
        "print(\"-\" * 30)\n",
        "for nombre, porcentaje in resumen_asistencia.items():\n",
        "    print(f\"{nombre}: {porcentaje:.2f}% de asistencia\")\n"
      ],
      "metadata": {
        "id": "5wnj9YxaBjrO",
        "outputId": "29ac2d4f-49cd-4700-f434-863e16c9cfae",
        "colab": {
          "base_uri": "https://localhost:8080/"
        }
      },
      "execution_count": 36,
      "outputs": [
        {
          "output_type": "stream",
          "name": "stdout",
          "text": [
            "\n",
            "📊 **Resumen de Asistencia**\n",
            "------------------------------\n",
            "Juan Pérez: 50.00% de asistencia\n",
            "María López: 50.00% de asistencia\n",
            "Carlos Gómez: 100.00% de asistencia\n",
            "Ana Torres: 100.00% de asistencia\n"
          ]
        }
      ]
    },
    {
      "cell_type": "code",
      "source": [],
      "metadata": {
        "id": "HowKt9GUBntb"
      },
      "execution_count": null,
      "outputs": []
    }
  ]
}
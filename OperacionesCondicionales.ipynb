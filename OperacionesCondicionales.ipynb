{
  "cells": [
    {
      "cell_type": "markdown",
      "metadata": {
        "id": "g2h0VlsYHHPp"
      },
      "source": [
        "# Operaciones con tipos y estructuras condicionales"
      ]
    },
    {
      "cell_type": "markdown",
      "metadata": {
        "id": "U85SglinHMdW"
      },
      "source": [
        "## Operaciones de números aleatorios\n",
        "\n",
        "El módulo random en Python proporciona funciones para generar números aleatorios y realizar selecciones aleatorias de secuencias como listas, cadenas, etc. Este módulo es muy útil en diversas aplicaciones, desde simulaciones y juegos hasta pruebas estadísticas.\n"
      ]
    },
    {
      "cell_type": "code",
      "execution_count": 1,
      "metadata": {
        "colab": {
          "base_uri": "https://localhost:8080/"
        },
        "id": "sW1CZEltHMRg",
        "outputId": "1bf09f50-7ccd-4d31-d0d4-cfc02e231c34"
      },
      "outputs": [
        {
          "output_type": "stream",
          "name": "stdout",
          "text": [
            "Imprime un número aleatorio entero entre 3 y 9: 9\n"
          ]
        }
      ],
      "source": [
        "# Generar un número Entero aleatorio dentro de un rango\n",
        "\n",
        "import random\n",
        "numero_entero_aleatorio = random.randrange(3, 10)\n",
        "print('Imprime un número aleatorio entero entre 3 y 9:', numero_entero_aleatorio)"
      ]
    },
    {
      "cell_type": "code",
      "execution_count": 2,
      "metadata": {
        "colab": {
          "base_uri": "https://localhost:8080/"
        },
        "id": "hReDFQLm4tI2",
        "outputId": "16a009cc-136f-457c-f8aa-f8da8bd03eb2"
      },
      "outputs": [
        {
          "output_type": "stream",
          "name": "stdout",
          "text": [
            "Selecciona aleatoriamente un elemento de la lista [\"uno\", \"dos\", \"tres\"]: tres\n"
          ]
        }
      ],
      "source": [
        "# Seleccionar un Elemento Aleatorio de una Secuencia\n",
        "\n",
        "import random\n",
        "elemento_aleatorio = random.choice([\"uno\", \"dos\", \"tres\"])\n",
        "print('Selecciona aleatoriamente un elemento de la lista [\"uno\", \"dos\", \"tres\"]:', elemento_aleatorio)"
      ]
    },
    {
      "cell_type": "code",
      "execution_count": 3,
      "metadata": {
        "colab": {
          "base_uri": "https://localhost:8080/"
        },
        "id": "EcluOrKVJZq8",
        "outputId": "bb82a86c-96f5-4d61-9d9d-82c94dc4c4bf"
      },
      "outputs": [
        {
          "output_type": "stream",
          "name": "stdout",
          "text": [
            "Imprime un número aleatorio decimal entre 0 y 1: 0.8523434400827404\n"
          ]
        }
      ],
      "source": [
        "# Generar un Número Decimal Aleatorio entre 0 y 1\n",
        "import random\n",
        "numero_decimal_aleatorio = random.random()\n",
        "print('Imprime un número aleatorio decimal entre 0 y 1:', numero_decimal_aleatorio)"
      ]
    },
    {
      "cell_type": "code",
      "execution_count": 4,
      "metadata": {
        "colab": {
          "base_uri": "https://localhost:8080/"
        },
        "id": "Y_cbl4nTLrY2",
        "outputId": "8e53d18b-41d9-4b80-ae8f-5999e346c916"
      },
      "outputs": [
        {
          "output_type": "stream",
          "name": "stdout",
          "text": [
            "Imprime una letra aleatoria de la cadena \"AEIOU\": E\n"
          ]
        }
      ],
      "source": [
        "# Seleccionar una Letra Aleatoria de una Cadena\n",
        "import random\n",
        "letra_aleatoria = random.choice(\"AEIOU\")\n",
        "print('Imprime una letra aleatoria de la cadena \"AEIOU\":', letra_aleatoria)"
      ]
    },
    {
      "cell_type": "markdown",
      "metadata": {
        "id": "3p_ziJ8oMmd2"
      },
      "source": [
        "### Consideraciones de los números aleatorios.\n",
        "\n",
        "**Reproducibilidad:** Para generar la misma secuencia de números aleatorios en diferentes ejecuciones del programa, puedes establecer una semilla con random.seed(a). Esto es útil para pruebas y depuración.\n",
        "\n"
      ]
    },
    {
      "cell_type": "code",
      "execution_count": 5,
      "metadata": {
        "colab": {
          "base_uri": "https://localhost:8080/"
        },
        "id": "XWhLZTScMw89",
        "outputId": "8076b139-b608-47ed-fec4-b9f3bce9c890"
      },
      "outputs": [
        {
          "output_type": "stream",
          "name": "stdout",
          "text": [
            "0.6394267984578837\n"
          ]
        }
      ],
      "source": [
        "import random\n",
        "random.seed(42)\n",
        "print(random.random())  # Siempre imprimirá el mismo número cuando se usa la misma semilla"
      ]
    },
    {
      "cell_type": "markdown",
      "metadata": {
        "id": "rOMbU6OmL6K5"
      },
      "source": [
        "### Ejemplo\n",
        "\n",
        "Genera un número entero aleatorio entre 1 y 100. Imprime su resultado."
      ]
    },
    {
      "cell_type": "code",
      "execution_count": 6,
      "metadata": {
        "colab": {
          "base_uri": "https://localhost:8080/"
        },
        "id": "a2zfGEn6L57E",
        "outputId": "c4adf27d-2a74-42f4-eeef-e5a0e7107dde"
      },
      "outputs": [
        {
          "output_type": "stream",
          "name": "stdout",
          "text": [
            "Imprime un número aleatorio entero entre 1 y 100: 4\n"
          ]
        }
      ],
      "source": [
        "import random\n",
        "numero_entero_aleatorio = random.randrange(1, 101)\n",
        "print('Imprime un número aleatorio entero entre 1 y 100:', numero_entero_aleatorio)"
      ]
    },
    {
      "cell_type": "markdown",
      "metadata": {
        "id": "wsFAEwnKMIYt"
      },
      "source": [
        "### Ejemplo\n",
        "\n",
        "Selecciona un nombre aleatorio de la lista e imprímelo."
      ]
    },
    {
      "cell_type": "code",
      "execution_count": 7,
      "metadata": {
        "colab": {
          "base_uri": "https://localhost:8080/"
        },
        "id": "5y2ih8fWLzI4",
        "outputId": "83b3a868-c915-4a3e-bb5e-27a59d463481"
      },
      "outputs": [
        {
          "output_type": "stream",
          "name": "stdout",
          "text": [
            "Selecciona aleatoriamente un nombre de la lista de compañeros: Beatriz\n"
          ]
        }
      ],
      "source": [
        "import random\n",
        "companeros = [\"Ana\", \"Carlos\", \"Beatriz\", \"David\", \"Elena\"]\n",
        "nombre_aleatorio = random.choice(companeros)\n",
        "print('Selecciona aleatoriamente un nombre de la lista de compañeros:', nombre_aleatorio)"
      ]
    },
    {
      "cell_type": "markdown",
      "metadata": {
        "id": "zaJ6kq7LMUeb"
      },
      "source": [
        "### Ejercicio\n",
        "\n",
        "Crea una cadena con todas las letras del alfabeto y luego selecciona una letra de la cadena. Imprime el resultado"
      ]
    },
    {
      "cell_type": "code",
      "execution_count": 8,
      "metadata": {
        "id": "K-R9-jTgMPhb"
      },
      "outputs": [],
      "source": [
        "# Tu Código va acá"
      ]
    },
    {
      "cell_type": "code",
      "execution_count": 8,
      "metadata": {
        "id": "GQVgBtLuM1ms"
      },
      "outputs": [],
      "source": []
    },
    {
      "cell_type": "markdown",
      "metadata": {
        "id": "E9zeyBlNNTm7"
      },
      "source": [
        "## Operaciones con variables usando la librería Math\n",
        "\n",
        "La librería math en Python es un módulo que proporciona acceso a funciones matemáticas avanzadas y constantes. Incluye operaciones como cálculo de raíces cuadradas, logaritmos, trigonometría, funciones exponenciales y constantes matemáticas como π (pi) y e (la base del logaritmo natural). Esta librería es útil para realizar cálculos matemáticos complejos de manera sencilla y eficiente."
      ]
    },
    {
      "cell_type": "code",
      "execution_count": 9,
      "metadata": {
        "colab": {
          "base_uri": "https://localhost:8080/"
        },
        "id": "9ZNphWuvNkNS",
        "outputId": "c66817a2-ba71-4582-b87e-cdd107a01fc9"
      },
      "outputs": [
        {
          "output_type": "stream",
          "name": "stdout",
          "text": [
            "Factorial= 6\n"
          ]
        }
      ],
      "source": [
        "import math\n",
        "\n",
        "print(\"Factorial=\",math.factorial(3))"
      ]
    },
    {
      "cell_type": "code",
      "execution_count": 10,
      "metadata": {
        "colab": {
          "base_uri": "https://localhost:8080/"
        },
        "id": "J0Y_CgX5Nmgj",
        "outputId": "6b3d57c1-7144-469b-d3ab-3b1ba53d4ac7"
      },
      "outputs": [
        {
          "output_type": "stream",
          "name": "stdout",
          "text": [
            "PI= 3.141592653589793\n"
          ]
        }
      ],
      "source": [
        "import math\n",
        "\n",
        "print(\"PI=\",math.pi)"
      ]
    },
    {
      "cell_type": "code",
      "execution_count": 11,
      "metadata": {
        "colab": {
          "base_uri": "https://localhost:8080/"
        },
        "id": "WL9K-RmeNn-P",
        "outputId": "b6177b84-bbde-4eea-ed77-1dc6d093bcd3"
      },
      "outputs": [
        {
          "output_type": "stream",
          "name": "stdout",
          "text": [
            "E= 2.718281828459045\n"
          ]
        }
      ],
      "source": [
        "import math\n",
        "\n",
        "print(\"E=\",math.e)"
      ]
    },
    {
      "cell_type": "code",
      "execution_count": 12,
      "metadata": {
        "colab": {
          "base_uri": "https://localhost:8080/"
        },
        "id": "6cI8EZcENtIi",
        "outputId": "d3bfc2cc-db92-408c-e369-e2c9a8b46ed1"
      },
      "outputs": [
        {
          "output_type": "stream",
          "name": "stdout",
          "text": [
            "seno= 0.49999999999999994\n"
          ]
        }
      ],
      "source": [
        "import math\n",
        "\n",
        "print(\"seno=\",math.sin(math.pi/6))"
      ]
    },
    {
      "cell_type": "code",
      "execution_count": 13,
      "metadata": {
        "colab": {
          "base_uri": "https://localhost:8080/"
        },
        "id": "GdZW7HzTNyBn",
        "outputId": "87b831cc-9c43-47bf-c36e-3ee7063e6538"
      },
      "outputs": [
        {
          "output_type": "stream",
          "name": "stdout",
          "text": [
            "Potencia= 9.0\n"
          ]
        }
      ],
      "source": [
        "import math\n",
        "\n",
        "print(\"Potencia=\",math.pow(3,2))"
      ]
    },
    {
      "cell_type": "code",
      "execution_count": 14,
      "metadata": {
        "colab": {
          "base_uri": "https://localhost:8080/"
        },
        "id": "AJVnWUDUNzOp",
        "outputId": "97308fdd-1fa5-4326-aeae-002aa2b0fe94"
      },
      "outputs": [
        {
          "output_type": "stream",
          "name": "stdout",
          "text": [
            "Raiz cuadrada= 2.0\n"
          ]
        }
      ],
      "source": [
        "import math\n",
        "\n",
        "print(\"Raiz cuadrada=\",math.sqrt(4))"
      ]
    },
    {
      "cell_type": "markdown",
      "metadata": {
        "id": "IrmVuBHZNNpK"
      },
      "source": [
        "## Operaciones con cadenas de texto (Strings)"
      ]
    },
    {
      "cell_type": "code",
      "execution_count": 15,
      "metadata": {
        "colab": {
          "base_uri": "https://localhost:8080/"
        },
        "id": "HcTxoel2NStf",
        "outputId": "f37c4a3a-1bcc-4c63-e9c4-cd22f9f595f8"
      },
      "outputs": [
        {
          "output_type": "stream",
          "name": "stdout",
          "text": [
            "Un divertidoprogramaderadio\n"
          ]
        }
      ],
      "source": [
        "#Suma o concatenación\n",
        "x=\"Un divertido\"+\"programa\"+\"de\"+\"radio\"\n",
        "print(x)"
      ]
    },
    {
      "cell_type": "code",
      "execution_count": 16,
      "metadata": {
        "colab": {
          "base_uri": "https://localhost:8080/"
        },
        "id": "8j_oXsEYO92L",
        "outputId": "a5fa0a02-1ef9-4dda-d4b0-5160c2872c8c"
      },
      "outputs": [
        {
          "output_type": "stream",
          "name": "stdout",
          "text": [
            "programasprogramasprogramas\n"
          ]
        }
      ],
      "source": [
        "#Multiplicación de una cadena con un número\n",
        "y=3*\"programas\"\n",
        "print(y)"
      ]
    },
    {
      "cell_type": "code",
      "execution_count": 17,
      "metadata": {
        "colab": {
          "base_uri": "https://localhost:8080/"
        },
        "id": "5oQzcJSeO_GX",
        "outputId": "28717769-2590-4beb-d6f4-7bbdd0d399ac"
      },
      "outputs": [
        {
          "output_type": "stream",
          "name": "stdout",
          "text": [
            "longitud de la cadena: 27\n"
          ]
        }
      ],
      "source": [
        "#Obtener longitud de una cadena\n",
        "print('longitud de la cadena:',len(y))"
      ]
    },
    {
      "cell_type": "code",
      "execution_count": 18,
      "metadata": {
        "colab": {
          "base_uri": "https://localhost:8080/"
        },
        "id": "6zrTk1iFO_wN",
        "outputId": "115a0e53-c9e6-4f61-9c3e-921aaef20f91"
      },
      "outputs": [
        {
          "output_type": "stream",
          "name": "stdout",
          "text": [
            "acceder a una posicion determinada: p\n",
            "acceder a la última posición: A\n"
          ]
        }
      ],
      "source": [
        "#Acceder  a una posición de la cadena\n",
        "cadena = \"programA\"\n",
        "print('acceder a una posicion determinada:',cadena[0])\n",
        "print('acceder a la última posición:',cadena[-1])"
      ]
    },
    {
      "cell_type": "code",
      "execution_count": 19,
      "metadata": {
        "colab": {
          "base_uri": "https://localhost:8080/"
        },
        "id": "cRqp5LFsPCEK",
        "outputId": "76e479d4-b0b9-4a06-d64a-bb8746c1a21f"
      },
      "outputs": [
        {
          "output_type": "stream",
          "name": "stdout",
          "text": [
            "rna\n"
          ]
        }
      ],
      "source": [
        "# Extraer solo una parte de\n",
        "cadena = 'Fernando'\n",
        "porcion = cadena[2:5]\n",
        "print(porcion)"
      ]
    },
    {
      "cell_type": "code",
      "execution_count": 20,
      "metadata": {
        "colab": {
          "base_uri": "https://localhost:8080/"
        },
        "id": "78wRfB3fP_eK",
        "outputId": "750b5b12-80ca-401e-9587-4a5990bdfecf"
      },
      "outputs": [
        {
          "output_type": "stream",
          "name": "stdout",
          "text": [
            "Texto entre \n",
            "\n",
            "\n",
            " \t\t\tcomillas simples\n",
            "<class 'str'>\n"
          ]
        }
      ],
      "source": [
        "# Saltos de linea y tabulaciones\n",
        "cadenaesc = 'Texto entre \\n\\n\\n \\t\\t\\tcomillas simples'\n",
        "print(cadenaesc)\n",
        "print(type(cadenaesc))"
      ]
    },
    {
      "cell_type": "code",
      "execution_count": 21,
      "metadata": {
        "colab": {
          "base_uri": "https://localhost:8080/"
        },
        "id": "MrYh8AXxQIZE",
        "outputId": "730e9063-736b-495f-92ee-0bf2b7318a66"
      },
      "outputs": [
        {
          "output_type": "stream",
          "name": "stdout",
          "text": [
            "HOLA MUNDO\n"
          ]
        }
      ],
      "source": [
        "# Transformar todo a MAYÚSCULAS\n",
        "\n",
        "cadena = \"Hola Mundo\"\n",
        "print(cadena.upper())"
      ]
    },
    {
      "cell_type": "code",
      "execution_count": 22,
      "metadata": {
        "colab": {
          "base_uri": "https://localhost:8080/"
        },
        "id": "56zk1g9CSG1C",
        "outputId": "293281bd-9d12-427c-f991-146b227508bd"
      },
      "outputs": [
        {
          "output_type": "stream",
          "name": "stdout",
          "text": [
            "hola mundo\n"
          ]
        }
      ],
      "source": [
        "# Transformar todo a minúsculas\n",
        "\n",
        "cadena = \"Hola Mundo\"\n",
        "print(cadena.lower())"
      ]
    },
    {
      "cell_type": "code",
      "execution_count": 23,
      "metadata": {
        "colab": {
          "base_uri": "https://localhost:8080/"
        },
        "id": "6IzEM_s1SQv_",
        "outputId": "206dd619-abea-4e14-e0dd-d721085ac41e"
      },
      "outputs": [
        {
          "output_type": "stream",
          "name": "stdout",
          "text": [
            "Hola Mundo\n",
            "Hola Mundo   \n",
            "   Hola Mundo\n"
          ]
        }
      ],
      "source": [
        "# Elimar espacios en blanco\n",
        "\n",
        "cadena = \"   Hola Mundo   \"\n",
        "print(cadena.strip())   # Elimina los espacios al principio y al final\n",
        "print(cadena.lstrip())  # Elimina los espacios que están a la izquierda (principio)\n",
        "print(cadena.rstrip())  # Elimina los espacios que están a la derecha (final)"
      ]
    },
    {
      "cell_type": "code",
      "execution_count": 24,
      "metadata": {
        "colab": {
          "base_uri": "https://localhost:8080/"
        },
        "id": "9CAGX_vwSn__",
        "outputId": "76600fcd-2f11-4ad8-a0ed-035b28d72f55"
      },
      "outputs": [
        {
          "output_type": "stream",
          "name": "stdout",
          "text": [
            "Hola Python\n"
          ]
        }
      ],
      "source": [
        "# Reemplaza todas las apariciones de una subcadena por otra.\n",
        "cadena = \"Hola Mundo\"\n",
        "nueva_cadena = cadena.replace(\"Mundo\", \"Python\")\n",
        "print(nueva_cadena)"
      ]
    },
    {
      "cell_type": "code",
      "execution_count": 25,
      "metadata": {
        "colab": {
          "base_uri": "https://localhost:8080/"
        },
        "id": "I2oB6omVSvQJ",
        "outputId": "2da78774-8c0a-4593-bf29-e3ff0f809eb1"
      },
      "outputs": [
        {
          "output_type": "stream",
          "name": "stdout",
          "text": [
            "['Juan Perez', 'Álvaro Gonzalez', 'Pablo Jimenez']\n"
          ]
        }
      ],
      "source": [
        "# Divide una cadena en una lista utilizando un delimitador\n",
        "cadena = \"Juan Perez,Álvaro Gonzalez,Pablo Jimenez\"\n",
        "lista = cadena.split(\",\")\n",
        "print(lista)"
      ]
    },
    {
      "cell_type": "code",
      "execution_count": 26,
      "metadata": {
        "colab": {
          "base_uri": "https://localhost:8080/"
        },
        "id": "EVxipVO7TCkk",
        "outputId": "50016320-3d7b-48d2-98dc-8d4674e7f696"
      },
      "outputs": [
        {
          "output_type": "stream",
          "name": "stdout",
          "text": [
            "Este-es-mi-mensaje-.-Quiero-aprender-python\n"
          ]
        }
      ],
      "source": [
        "# Une una lista en una cadena con un delimitador.\n",
        "\n",
        "lista = [\"Este\", \"es\", \"mi\", \"mensaje\",\".\",\"Quiero\",\"aprender\", \"python\"]\n",
        "\n",
        "nueva_frase = \"-\".join(lista)\n",
        "print(nueva_frase)"
      ]
    },
    {
      "cell_type": "code",
      "execution_count": 27,
      "metadata": {
        "colab": {
          "base_uri": "https://localhost:8080/"
        },
        "id": "KZYFPwORTlA4",
        "outputId": "8ac71c0d-bc3b-482b-89d6-428f76603f31"
      },
      "outputs": [
        {
          "output_type": "stream",
          "name": "stdout",
          "text": [
            "5\n"
          ]
        }
      ],
      "source": [
        "# Encuentra la posición de una subcadena dentro de otra cadena.\n",
        "cadena = \"Hola Mundo\"\n",
        "posicion = cadena.find(\"Mundo\")\n",
        "print(posicion)"
      ]
    },
    {
      "cell_type": "code",
      "execution_count": 28,
      "metadata": {
        "colab": {
          "base_uri": "https://localhost:8080/"
        },
        "id": "6A-77oHUT0qj",
        "outputId": "42347155-8ba7-461d-b0af-732e54f50bb3"
      },
      "outputs": [
        {
          "output_type": "stream",
          "name": "stdout",
          "text": [
            "5\n"
          ]
        }
      ],
      "source": [
        "# Similar a find, pero lanza un error si la subcadena no se encuentra\n",
        "posicion = cadena.index(\"Mundo\")\n",
        "print(posicion)"
      ]
    },
    {
      "cell_type": "code",
      "execution_count": 29,
      "metadata": {
        "colab": {
          "base_uri": "https://localhost:8080/"
        },
        "id": "ZuzgKcKOTwbP",
        "outputId": "5ce26aec-03e6-4dc7-bbc0-7c47eb41f75b"
      },
      "outputs": [
        {
          "output_type": "stream",
          "name": "stdout",
          "text": [
            "-1\n"
          ]
        }
      ],
      "source": [
        "cadena = \"Hola Mundo\"\n",
        "posicion = cadena.find(\"Persona\") # reemplazar por index y analizar su resultado\n",
        "print(posicion)"
      ]
    },
    {
      "cell_type": "code",
      "execution_count": 30,
      "metadata": {
        "colab": {
          "base_uri": "https://localhost:8080/"
        },
        "id": "ogVBaTxuT3sc",
        "outputId": "6c3b729b-baa6-4bb2-a9e0-d7456afeaa2a"
      },
      "outputs": [
        {
          "output_type": "stream",
          "name": "stdout",
          "text": [
            "True\n"
          ]
        }
      ],
      "source": [
        "# Verifica si una cadena empieza con una subcadena específica.\n",
        "cadena = \"Hola Mundo\"\n",
        "print(cadena.startswith(\"Hola\"))"
      ]
    },
    {
      "cell_type": "code",
      "execution_count": 31,
      "metadata": {
        "colab": {
          "base_uri": "https://localhost:8080/"
        },
        "id": "Ue8gupNMUNOX",
        "outputId": "95322fea-8490-49d2-9291-a11d8049c249"
      },
      "outputs": [
        {
          "output_type": "stream",
          "name": "stdout",
          "text": [
            "True\n"
          ]
        }
      ],
      "source": [
        "# Verifica si una cadena termina con una subcadena específica.\n",
        "cadena = \"Hola Mundo\"\n",
        "print(cadena.endswith(\"Mundo\"))"
      ]
    },
    {
      "cell_type": "code",
      "execution_count": 32,
      "metadata": {
        "colab": {
          "base_uri": "https://localhost:8080/"
        },
        "id": "Fwky4f5jTx6U",
        "outputId": "061cd972-828a-45fa-b3b9-264f06e0640b"
      },
      "outputs": [
        {
          "output_type": "stream",
          "name": "stdout",
          "text": [
            "2\n"
          ]
        }
      ],
      "source": [
        "cadena = \"Hola Hola Mundo\"\n",
        "print(cadena.count(\"Hola\"))"
      ]
    },
    {
      "cell_type": "markdown",
      "metadata": {
        "id": "E4IeMT2AUY5l"
      },
      "source": [
        "### Ejemplo\n",
        "\n",
        "Vamos a poner en práctica lo aprendido con un ejercicio.\n",
        "\n",
        "Solicita al usuario que ingrese su nombre completo y su edad.\n",
        "Convierte el nombre a mayúsculas.\n",
        "Reemplaza los espacios en el nombre por guiones bajos.\n",
        "Divide el nombre en una lista de palabras.\n",
        "Imprime un mensaje que incluya el nombre formateado y la edad.\n"
      ]
    },
    {
      "cell_type": "code",
      "execution_count": null,
      "metadata": {
        "colab": {
          "base_uri": "https://localhost:8080/"
        },
        "id": "Uo6eYYiuUdb4",
        "outputId": "ed05c30f-02ad-40dd-bc82-49f97d2d08ad"
      },
      "outputs": [
        {
          "name": "stdout",
          "output_type": "stream",
          "text": [
            "Por favor, ingresa tu nombre completo: Andres Perez\n",
            "Por favor, ingresa tu edad: 12\n",
            "Nombre en mayúsculas: ANDRES PEREZ\n",
            "Nombre con guiones bajos: Andres_Perez\n",
            "Nombre dividido en lista: ['Andres', 'Perez']\n",
            "Nombre formateado: ANDRES PEREZ, Edad: 12\n"
          ]
        }
      ],
      "source": [
        "# Solución:\n",
        "\n",
        "# Solicitar información del usuario\n",
        "nombre_completo = input(\"Por favor, ingresa tu nombre completo: \")\n",
        "edad = input(\"Por favor, ingresa tu edad: \")\n",
        "\n",
        "# Convertir el nombre a mayúsculas\n",
        "nombre_mayusculas = nombre_completo.upper()\n",
        "print(f\"Nombre en mayúsculas: {nombre_mayusculas}\")\n",
        "\n",
        "# Reemplazar los espacios por guiones bajos\n",
        "nombre_guiones = nombre_completo.replace(\" \", \"_\")\n",
        "print(f\"Nombre con guiones bajos: {nombre_guiones}\")\n",
        "\n",
        "# Dividir el nombre en una lista de palabras\n",
        "nombre_lista = nombre_completo.split()\n",
        "print(f\"Nombre dividido en lista: {nombre_lista}\")\n",
        "\n",
        "# Imprimir un mensaje formateado\n",
        "mensaje = f\"Nombre formateado: {nombre_mayusculas}, Edad: {edad}\"\n",
        "print(mensaje)"
      ]
    },
    {
      "cell_type": "markdown",
      "metadata": {
        "id": "zIGpwEvUVjNh"
      },
      "source": [
        "### Ejercicio\n",
        "\n",
        "**Descripción**\n",
        "Este ejercicio consiste en crear una contraseña aleatoria utilizando cadenas de caracteres y números aleatorios. La contraseña tendrá una longitud fija de 8 caracteres y contendrá una mezcla de letras mayúsculas, letras minúsculas, dígitos y caracteres especiales.\n",
        "\n",
        "**Pasos del ejercicio**\n",
        "1. Crear listas de caracteres que incluyan letras mayúsculas, letras minúsculas, dígitos y caracteres especiales.\n",
        "2. Seleccionar aleatoriamente caracteres de estas listas para formar una contraseña de longitud fija.\n",
        "3. Combinar los caracteres en una cadena de caracteres.\n",
        "4. Imprimir la contraseña generada.\n",
        "\n",
        "\n",
        "**Pista**\n",
        "\n",
        "```\n",
        "letras_mayusculas = \"ABCDEFGHIJKLMNOPQRSTUVWXYZ\"\n",
        "letras_minusculas = \"abcdefghijklmnopqrstuvwxyz\"\n",
        "digitos = \"0123456789\"\n",
        "caracteres_especiales = \"!@#$%^&*()-_=+\"\n",
        "```"
      ]
    },
    {
      "cell_type": "code",
      "execution_count": 33,
      "metadata": {
        "id": "b18JWTY3Woo9",
        "outputId": "4bdc6f2e-d78e-4c56-d374-73073809c353",
        "colab": {
          "base_uri": "https://localhost:8080/"
        }
      },
      "outputs": [
        {
          "output_type": "stream",
          "name": "stdout",
          "text": [
            "Contraseña generada: \"'2I@hnH\n"
          ]
        }
      ],
      "source": [
        "# Tu código va acá\n",
        "import random\n",
        "import string\n",
        "\n",
        "def generar_contraseña(longitud=8):\n",
        "    # Listas de caracteres\n",
        "    mayusculas = string.ascii_uppercase  # Letras mayúsculas\n",
        "    minusculas = string.ascii_lowercase  # Letras minúsculas\n",
        "    digitos = string.digits  # Números\n",
        "    especiales = string.punctuation  # Caracteres especiales\n",
        "\n",
        "    # Combinar todos los caracteres\n",
        "    todos = mayusculas + minusculas + digitos + especiales\n",
        "\n",
        "    # Asegurar que haya al menos un carácter de cada tipo\n",
        "    contraseña = [\n",
        "        random.choice(mayusculas),\n",
        "        random.choice(minusculas),\n",
        "        random.choice(digitos),\n",
        "        random.choice(especiales),\n",
        "    ]\n",
        "\n",
        "    # Completar con caracteres aleatorios hasta alcanzar la longitud deseada\n",
        "    contraseña += random.choices(todos, k=longitud - len(contraseña))\n",
        "\n",
        "    # Mezclar la contraseña para que el orden sea aleatorio\n",
        "    random.shuffle(contraseña)\n",
        "\n",
        "    # Convertir la lista en una cadena de texto\n",
        "    return \"\".join(contraseña)\n",
        "\n",
        "# Generar e imprimir una contraseña aleatoria de 8 caracteres\n",
        "print(\"Contraseña generada:\", generar_contraseña())"
      ]
    },
    {
      "cell_type": "markdown",
      "metadata": {
        "id": "p0yFkcijUB3Q"
      },
      "source": [
        "# Estructuras condicionadas\n",
        "\n",
        "Es una estructura que controla el flujo del programa.\n",
        "\n",
        "\n",
        "Se utiliza if para especificar un bloque de código a ejecutar, si una condición especificada es verdadera."
      ]
    },
    {
      "cell_type": "markdown",
      "metadata": {
        "id": "e_VAgq9TUB3Q"
      },
      "source": [
        "<img src='https://aprendeconalf.es/manual-r/img/04-estructuras-control/condicional-simple.png' width=500>"
      ]
    },
    {
      "cell_type": "code",
      "execution_count": 34,
      "metadata": {
        "colab": {
          "base_uri": "https://localhost:8080/"
        },
        "id": "a0AigYlKUB3R",
        "outputId": "72c20de1-44e6-4c08-dd8c-a423b7fad554"
      },
      "outputs": [
        {
          "output_type": "stream",
          "name": "stdout",
          "text": [
            "si\n",
            "si2\n",
            "Por Fuera2\n"
          ]
        }
      ],
      "source": [
        "if 5>2:\n",
        "  print('si')\n",
        "  print('si2')\n",
        "print(\"Por Fuera2\")"
      ]
    },
    {
      "cell_type": "code",
      "execution_count": 35,
      "metadata": {
        "colab": {
          "base_uri": "https://localhost:8080/"
        },
        "id": "6vq8UaDZ81kF",
        "outputId": "72957323-550f-46fe-ac4b-ad9510bf1cad"
      },
      "outputs": [
        {
          "output_type": "stream",
          "name": "stdout",
          "text": [
            "b is greater than a\n"
          ]
        }
      ],
      "source": [
        "a=2\n",
        "b=5\n",
        "if (b > a):\n",
        "  print(\"b is greater than a\")"
      ]
    },
    {
      "cell_type": "markdown",
      "metadata": {
        "id": "M0RJWtCw81kF"
      },
      "source": [
        "Se utiliza else para especificar un bloque de código a ejecutar, si la misma condición es falsa."
      ]
    },
    {
      "cell_type": "code",
      "execution_count": 36,
      "metadata": {
        "id": "ZnMCvjmR81kF",
        "outputId": "4d2cb3d6-5014-4060-90d2-5e7ec5e36980",
        "colab": {
          "base_uri": "https://localhost:8080/"
        }
      },
      "outputs": [
        {
          "output_type": "stream",
          "name": "stdout",
          "text": [
            "b is greater than a\n"
          ]
        }
      ],
      "source": [
        "a=2\n",
        "b=5\n",
        "if (b > a):\n",
        "  print(\"b is greater than a\")\n",
        "else:\n",
        "  print(\"b is not greater than a\")"
      ]
    },
    {
      "cell_type": "markdown",
      "metadata": {
        "id": "Fu4jbDuJ81kF"
      },
      "source": [
        "<img src=\"https://aprendeconalf.es/manual-r/img/04-estructuras-control/condicional-multiple.png\" width=500/>"
      ]
    },
    {
      "cell_type": "markdown",
      "metadata": {
        "id": "k0W8ZVJb81kF"
      },
      "source": [
        "Se utiliza elif para especificar una nueva condición a probar, si la primera condición es falsa."
      ]
    },
    {
      "cell_type": "code",
      "execution_count": 37,
      "metadata": {
        "id": "ZPcbjjze81kG",
        "outputId": "2a838798-4db0-44e4-8c92-349a1c78293c",
        "colab": {
          "base_uri": "https://localhost:8080/"
        }
      },
      "outputs": [
        {
          "output_type": "stream",
          "name": "stdout",
          "text": [
            "si\n",
            "si2\n",
            "PorFuera2\n"
          ]
        }
      ],
      "source": [
        "if 5>2:\n",
        "  print('si')\n",
        "  print('si2')\n",
        "elif 1>3:\n",
        "  print('sino si')\n",
        "else:\n",
        "    print('no')\n",
        "    print('PorFuera')\n",
        "print('PorFuera2')"
      ]
    },
    {
      "cell_type": "markdown",
      "metadata": {
        "id": "mUlIjZUHUB3U"
      },
      "source": [
        "## Ejercicios"
      ]
    },
    {
      "cell_type": "markdown",
      "metadata": {
        "id": "8I7oH0XgUB3V"
      },
      "source": [
        "1. Realice un programa que pida la edad de una persona en años. Si la edad es mayor o igual a 18, el programa debe imprimir la cadena: ‘ADULTO’. Si la edad es menor a 18 se debe imprimir: ‘MENOR DE EDAD’.\n",
        "\n",
        "2. Diseñe un algoritmo que determine si ún número es o no es, par positivo.\n",
        "\n",
        "3. Diseñe un algoritmo que lea un número de tres cifras y determine si es igual al revés del número.\n"
      ]
    },
    {
      "cell_type": "code",
      "execution_count": null,
      "metadata": {
        "id": "dG9i4os_qvZb"
      },
      "outputs": [],
      "source": [
        "# Escribe aquí tu código\n"
      ]
    },
    {
      "cell_type": "markdown",
      "metadata": {
        "id": "igXedies81kG"
      },
      "source": [
        "## Más ejemplos de estructuras condicionales\n",
        "\n",
        "Realizar un programa que me diga si una persona es mayor de edad e imprima el mensaje `\"Mientras usted viva en esta casa se hará lo que yo diga\"`, en caso de que viva en la casa de sus padres y sea mayor de edad. Debe pedir la edad del usuario y preguntar si vive o no en la casa de sus padres.\n",
        "\n",
        "*Implementación de `if` anidados. Los `if` anidados son estructuras que establecen condiciones consecutivas donde se encandenan, esto tiene diferentes aplicaciones desde hacer validaciones hasta generar filtros de condición.*"
      ]
    },
    {
      "cell_type": "code",
      "execution_count": null,
      "metadata": {
        "colab": {
          "base_uri": "https://localhost:8080/"
        },
        "id": "2JPZZ9wJ81kH",
        "outputId": "ef82574e-a457-4e95-c365-761c1bc61666"
      },
      "outputs": [
        {
          "output_type": "stream",
          "name": "stdout",
          "text": [
            "Ingrese la edad:\n"
          ]
        }
      ],
      "source": [
        "# Variable para leer la edad\n",
        "print(\"Ingrese la edad:\")\n",
        "edad = int(input())\n",
        "\n",
        "# Variable para leer si o no\n",
        "print(\"Vive en casa (si/no):\")\n",
        "casa = input()\n",
        "\n",
        "# Acción con if anidados\n",
        "if edad > 0:\n",
        "    if edad >= 18:\n",
        "        print(\"Es mayor de edad\")\n",
        "        if casa == \"si\":\n",
        "            print(\"Mientras usted viva en esta casa se hará lo que yo diga\")\n",
        "        else:\n",
        "            print(\"Puede hacer lo que le dé la gana en su casa\")\n",
        "    else:\n",
        "        print(\"Usted es un bebé\")\n",
        "else:\n",
        "    print(\"Aprenda a escribir edades\")\n"
      ]
    },
    {
      "cell_type": "markdown",
      "metadata": {
        "id": "IaH4r5yy81kH"
      },
      "source": [
        "## Ejercicio\n",
        "\n",
        "*`if` anidado incorporando `else`*\n",
        "\n",
        "Realizar un programa donde se le pida a un usuario que ingrese la temperatura actual de forma que si la temperatura es mayor a $15°$ Celsius pase a la siguiente condición, donde se le pregunta si es mayor a $25°$ Celsius, en caso de ser así, imprimir el mensaje `\"A la playa\"`, de lo contrario imprimir `A la montaña!`."
      ]
    },
    {
      "cell_type": "code",
      "execution_count": null,
      "metadata": {
        "colab": {
          "base_uri": "https://localhost:8080/"
        },
        "id": "LMQA11Ah81kH",
        "outputId": "f4d00de2-8763-4d28-b2e5-6384342d70ed"
      },
      "outputs": [
        {
          "name": "stdout",
          "output_type": "stream",
          "text": [
            "Ingrese el valor de la temperatura:\n",
            "60\n",
            "¡A la playa!\n"
          ]
        }
      ],
      "source": [
        "# Variable para leer la temperatura\n",
        "print(\"Ingrese el valor de la temperatura:\")\n",
        "temperatura = float(input())\n",
        "\n",
        "if temperatura > 15:\n",
        "    if temperatura > 25:\n",
        "        # Si la temperatura es mayor que 25 ...\n",
        "        print(\"¡A la playa!\")\n",
        "    else:\n",
        "        print(\"¡A la montaña!\")\n"
      ]
    },
    {
      "cell_type": "markdown",
      "metadata": {
        "id": "trNnhYPN81kH"
      },
      "source": [
        "## Ejercicio\n",
        "\n",
        "Realizar un programa que pida por teclado 2 números enteros diferentes y compare e imprima el mayor de ellos."
      ]
    },
    {
      "cell_type": "code",
      "execution_count": null,
      "metadata": {
        "colab": {
          "base_uri": "https://localhost:8080/"
        },
        "id": "taHMDG_x81kH",
        "outputId": "0eb6b3af-6063-4341-86f1-dcf297816851"
      },
      "outputs": [
        {
          "name": "stdout",
          "output_type": "stream",
          "text": [
            "Ingrese el primer numero: \n",
            "3\n",
            "Ingrese el segundo numero: \n",
            "45\n",
            "El número mayor es: 45\n"
          ]
        }
      ],
      "source": [
        "# Se pueden definir n variables del mismo tipo en la misma linea:\n",
        "num1, num2 = 0, 0\n",
        "\n",
        "# Variable para leer enteros\n",
        "print(\"Ingrese el primer numero: \")\n",
        "num1 = int(input())\n",
        "print(\"Ingrese el segundo numero: \")\n",
        "num2 = int(input())\n",
        "\n",
        "# Comparar numeros\n",
        "if num1 > num2:\n",
        "    print(\"El número mayor es:\", num1)\n",
        "else:\n",
        "    print(\"El número mayor es:\", num2)"
      ]
    },
    {
      "cell_type": "markdown",
      "metadata": {
        "id": "6csorExy81kH"
      },
      "source": [
        "## Ejercicio\n",
        "\n",
        "Realizar un programa que simule un inicio de sesión solicitando el nombre de usuario y contraseña. Mostrar un mensaje en pantalla si el inicio de sesión es correcto o incorrecto."
      ]
    },
    {
      "cell_type": "code",
      "execution_count": null,
      "metadata": {
        "colab": {
          "base_uri": "https://localhost:8080/"
        },
        "id": "mCVstkMY81kH",
        "outputId": "5d4075b8-9f18-46f4-83b8-849e58a6c0f5"
      },
      "outputs": [
        {
          "name": "stdout",
          "output_type": "stream",
          "text": [
            "Ingrese Nombre de usuario: \n",
            "juan\n",
            "Ingrese Clave de usuario: \n",
            "admin23\n",
            "Nombre de Usuario o Contraseña Incorrecto\n"
          ]
        }
      ],
      "source": [
        "# Definiendo variables String en la misma línea:\n",
        "nombre, clave = \"\", \"\"\n",
        "\n",
        "# Variable para leer String\n",
        "print(\"Ingrese Nombre de usuario: \")\n",
        "nombre = input()\n",
        "print(\"Ingrese Clave de usuario: \")\n",
        "clave = input()\n",
        "\n",
        "# Validar entradas\n",
        "if nombre == \"Juan\" and clave == \"123456\":\n",
        "    print(\"Bienvenido al Sistema\")\n",
        "else:\n",
        "    print(\"Nombre de Usuario o Contraseña Incorrecto\")\n"
      ]
    },
    {
      "cell_type": "markdown",
      "metadata": {
        "id": "vkVHhWVL81kI"
      },
      "source": [
        "## Ejercicio\n",
        "\n",
        "Una farmacia desea un programa para ingresar el valor de compra y calcular lo siguiente: si el pago se efectúa al `\"contado\"`, calcular un descuento del $5%$; pero si el pago es con `\"tarjeta\"` se incrementa un recargo del $3%$ al valor de compra. Calcular y visualizar el descuento o recargo según sea el caso y el total a pagar de la compra."
      ]
    },
    {
      "cell_type": "code",
      "execution_count": null,
      "metadata": {
        "colab": {
          "base_uri": "https://localhost:8080/"
        },
        "id": "yrwCVA4Q81kI",
        "outputId": "8e91bd15-f289-4a31-9318-fa41fcbfae12"
      },
      "outputs": [
        {
          "name": "stdout",
          "output_type": "stream",
          "text": [
            "Ingrese el valor de la compra: \n",
            "234\n",
            "Ingrese tipo de pago: \n",
            "contado\n",
            "El descuento es: 11.700000000000001\n",
            "El total es: 222.3\n"
          ]
        }
      ],
      "source": [
        "# Definir variables double en una sola línea\n",
        "valor, descuento, recargo, total = 0.0, 0.0, 0.0, 0.0\n",
        "\n",
        "# Definir String\n",
        "tipo_pago = \"\"\n",
        "\n",
        "# Variable para leer String\n",
        "print(\"Ingrese el valor de la compra: \")\n",
        "valor = float(input())\n",
        "print(\"Ingrese tipo de pago: \")\n",
        "tipo_pago = input().lower()\n",
        "\n",
        "# Descuento y recargo\n",
        "descuento = 0.05 * valor\n",
        "recargo = 0.03 * valor\n",
        "\n",
        "if tipo_pago == \"contado\":\n",
        "    print(\"El descuento es:\", descuento)\n",
        "    total = valor - descuento\n",
        "    print(\"El total es:\", total)\n",
        "else:\n",
        "    print(\"El recargo es:\", recargo)\n",
        "    total = valor + recargo\n",
        "    print(\"El total es:\", total)\n"
      ]
    },
    {
      "cell_type": "markdown",
      "metadata": {
        "id": "V34bHIHL81kI"
      },
      "source": [
        "## Ejercicio\n",
        "\n",
        "*`elif` es una alternativa al uso de los `if` anidados y la estructura `else`, este se activa como una condición alternativa si el resultado es falso en la condición inicial, esta funciona como un `else` pero iterativo y consecutivamente se cierra con `else`.*\n",
        "\n",
        "Realizar un programa que le pregunte al usuario la cantidad de satelites que tiene Jupiter y valide e imprima un mensaje si ha acertado o no."
      ]
    },
    {
      "cell_type": "code",
      "execution_count": null,
      "metadata": {
        "colab": {
          "base_uri": "https://localhost:8080/"
        },
        "id": "yjbV7zOX81kI",
        "outputId": "8578d37d-338d-4537-dc6a-a434708492e2"
      },
      "outputs": [
        {
          "name": "stdout",
          "output_type": "stream",
          "text": [
            "¿Cuantos satélites tiene Júpiter?\n",
            "2\n",
            "Lo siento, pero no es la respuesta correcta :(\n"
          ]
        }
      ],
      "source": [
        "# Variable para leer String\n",
        "print(\"¿Cuantos satélites tiene Júpiter?\")\n",
        "C = int(input())\n",
        "\n",
        "# Validar e imprimir mensaje\n",
        "if C == 79:\n",
        "    print(\"¡Felicidades, has acertado la pregunta! :)\")\n",
        "elif C != 79:\n",
        "    print(\"Lo siento, pero no es la respuesta correcta :(\")\n"
      ]
    },
    {
      "cell_type": "markdown",
      "metadata": {
        "id": "oiHvFgQw81kI"
      },
      "source": [
        "## Ejercicio\n",
        "\n",
        "Realizar un programa que le pida al usuario un número del 1 al 7 y que imprima el día de la semana que corresponde a ese número."
      ]
    },
    {
      "cell_type": "code",
      "execution_count": null,
      "metadata": {
        "colab": {
          "base_uri": "https://localhost:8080/"
        },
        "id": "s-gYrmFG81kI",
        "outputId": "fcb02fe4-bf87-4778-a805-f40d9df0c0f6"
      },
      "outputs": [
        {
          "name": "stdout",
          "output_type": "stream",
          "text": [
            "Ingrese un número del 1 al 7: \n",
            "3\n",
            "El día es Miércoles\n"
          ]
        }
      ],
      "source": [
        "# Realizar un programa que le pida al usuario un número del 1 al 7 y que imprima el día de la semana que corresponde a ese número.\n",
        "\n",
        "# Variable para leer String\n",
        "print(\"Ingrese un número del 1 al 7: \")\n",
        "dia = int(input())\n",
        "\n",
        "# Validar e imprimir mensaje\n",
        "if dia == 1:\n",
        "    print(\"El día es Lunes\")\n",
        "elif dia == 2:\n",
        "    print(\"El día es Martes\")\n",
        "elif dia == 3:\n",
        "    print(\"El día es Miércoles\")\n",
        "elif dia == 4:\n",
        "    print(\"El día es Jueves\")\n",
        "elif dia == 5:\n",
        "    print(\"El día es Viernes\")\n",
        "elif dia == 6:\n",
        "    print(\"El día es Sábado\")\n",
        "elif dia == 7:\n",
        "    print(\"El día es Domingo\")\n",
        "else:\n",
        "    print(\"El número ingresado no es válido\")\n",
        "\n"
      ]
    },
    {
      "cell_type": "markdown",
      "metadata": {
        "id": "Rqgh9sLk81kI"
      },
      "source": [
        "## Ejercicio\n",
        "\n",
        "Realizar un programa que ordene 3 números de mayor a menor. Lea los numeros por teclado."
      ]
    },
    {
      "cell_type": "code",
      "execution_count": null,
      "metadata": {
        "colab": {
          "base_uri": "https://localhost:8080/"
        },
        "id": "eCQDpOI381kJ",
        "outputId": "0872ce5a-224a-4dfc-fdee-239746fb6959"
      },
      "outputs": [
        {
          "name": "stdout",
          "output_type": "stream",
          "text": [
            "Ingrese el primer número: \n",
            "2\n",
            "Ingrese el segundo número: \n",
            "1\n",
            "Ingrese el tercer número: \n",
            "12\n",
            "El orden es: 12 , 2 , 1\n"
          ]
        }
      ],
      "source": [
        "# Definir variables (números enteros)\n",
        "n1, n2, n3 = 0, 0, 0\n",
        "\n",
        "# Leer variables\n",
        "print(\"Ingrese el primer número: \")\n",
        "n1 = int(input())\n",
        "print(\"Ingrese el segundo número: \")\n",
        "n2 = int(input())\n",
        "print(\"Ingrese el tercer número: \")\n",
        "n3 = int(input())\n",
        "\n",
        "# Lógica\n",
        "if (n1 > n2) and (n2 > n3):\n",
        "    print(\"El orden es:\", n1, \",\", n2, \",\", n3)\n",
        "elif (n1 > n3) and (n3 > n2):\n",
        "    print(\"El orden es:\", n1, \",\", n3, \",\", n2)\n",
        "elif (n2 > n1) and (n1 > n3):\n",
        "    print(\"El orden es:\", n2, \",\", n1, \",\", n3)\n",
        "elif (n2 > n3) and (n3 > n1):\n",
        "    print(\"El orden es:\", n2, \",\", n3, \",\", n1)\n",
        "elif (n3 > n2) and (n2 > n1):\n",
        "    print(\"El orden es:\", n3, \",\", n2, \",\", n1)\n",
        "else:\n",
        "    print(\"El orden es:\", n3, \",\", n1, \",\", n2)\n"
      ]
    },
    {
      "cell_type": "markdown",
      "metadata": {
        "id": "k4KW3cbX81kJ"
      },
      "source": [
        "## Ejercicio\n",
        "\n",
        "Realice un programa que pida al usuario una temperatura.\n",
        "- Si la temperatura es mayor a $25$, imprima `\"A la playa!\"`\n",
        "- Si la temperatura es mayor a $15$ y menor a $25$, imprima `\"A la montaña!\"`\n",
        "- Si la temperatura es menor a $5$, imprima `\"A esquiar!\"`\n",
        "\n",
        "En caso contario, imprimir `\"A descansar... zZz\"`"
      ]
    },
    {
      "cell_type": "code",
      "execution_count": null,
      "metadata": {
        "colab": {
          "base_uri": "https://localhost:8080/"
        },
        "id": "VCuIsdjl81kJ",
        "outputId": "8133b29e-1ef7-412f-e695-26be88c7eb43"
      },
      "outputs": [
        {
          "name": "stdout",
          "output_type": "stream",
          "text": [
            "Ingrese la temperatura:\n",
            "22\n",
            "A la montaña!\n"
          ]
        }
      ],
      "source": [
        "# Variable para leer temperatura\n",
        "print(\"Ingrese la temperatura:\")\n",
        "temperatura = float(input())\n",
        "\n",
        "# Lógica\n",
        "if temperatura > 25:\n",
        "    # Si la temperatura es mayor que 25 ...\n",
        "    print(\"A la playa!\")\n",
        "elif temperatura > 15:\n",
        "    # Si es mayor que 15 y no es mayor que 25 ...\n",
        "    print(\"A la montaña!\")\n",
        "elif temperatura < 5:\n",
        "    # Si es menor que 5 y está nevando y no es mayor que 15 ni mayor que 25 ...\n",
        "    print(\"A esquiar!\")\n",
        "else:\n",
        "    # Si la temperatura no cumple ninguna de las condiciones anteriores ...\n",
        "    print(\"A descansar... zZz\")\n"
      ]
    },
    {
      "cell_type": "markdown",
      "metadata": {
        "id": "KLg9yAj681kJ"
      },
      "source": [
        "## Ejercicio\n",
        "\n",
        "Realice un programa que al introducir el Coeficiente Intelectual (IQ, por sus siglas en inglés) del usuario lo clasifique en Bajo, Medio, Normal o Alto."
      ]
    },
    {
      "cell_type": "code",
      "execution_count": null,
      "metadata": {
        "colab": {
          "base_uri": "https://localhost:8080/"
        },
        "id": "SNZJMmN081kJ",
        "outputId": "11cb184b-8d21-45a0-bff5-53b64268caa8"
      },
      "outputs": [
        {
          "name": "stdout",
          "output_type": "stream",
          "text": [
            "Introduce el Coeficiente Intelectual: \n",
            "49\n",
            "IQ Bajo\n"
          ]
        }
      ],
      "source": [
        "# Variable para leer IQ\n",
        "print(\"Introduce el Coeficiente Intelectual: \")\n",
        "iq = int(input())\n",
        "\n",
        "# Lógica\n",
        "if iq <= 79:\n",
        "    print(\"IQ Bajo\")\n",
        "elif 79 < iq <= 89:\n",
        "    print(\"IQ Medio\")\n",
        "elif 90 <= iq < 110:\n",
        "    print(\"IQ Normal\")\n",
        "elif iq >= 110:\n",
        "    print(\"IQ Alto\")\n"
      ]
    },
    {
      "cell_type": "markdown",
      "metadata": {
        "id": "MSxKhbc981kK"
      },
      "source": [
        "## Ejercicio\n",
        "\n",
        "Realizar un programa que cuente los días que faltan para el fin de semana. Tenga en cuenta que:\n",
        "\n",
        "    Domingo = 1 (Fin de Semana)\n",
        "    Lunes = 2\n",
        "    Martes = 3\n",
        "    Miercoles = 4\n",
        "    Jueves = 5\n",
        "    Viernes = 6\n",
        "    Sabado = 7 (Fin de Semana)"
      ]
    },
    {
      "cell_type": "code",
      "execution_count": null,
      "metadata": {
        "colab": {
          "base_uri": "https://localhost:8080/"
        },
        "id": "DolFWYzt81kK",
        "outputId": "c64f0b9a-ab1a-4985-c6b6-8b9ccda9ebdd"
      },
      "outputs": [
        {
          "name": "stdout",
          "output_type": "stream",
          "text": [
            "Ingrese el día de la semana:\n",
            "4\n",
            "Días restantes hasta el fin de semana: 2\n"
          ]
        }
      ],
      "source": [
        "# Variable para leer día de la semana\n",
        "print(\"Ingrese el día de la semana:\")\n",
        "dia = int(input())\n",
        "\n",
        "# Variable para contar los días que faltan\n",
        "diasHastaFinSemana = 0\n",
        "\n",
        "# Lógica\n",
        "if 1 < dia < 7:\n",
        "    if dia < 6:\n",
        "        diasHastaFinSemana += 1\n",
        "        if dia < 5:\n",
        "            diasHastaFinSemana += 1\n",
        "            if dia < 4:\n",
        "                diasHastaFinSemana += 1\n",
        "                if dia < 3:\n",
        "                    diasHastaFinSemana += 1\n",
        "    print(\"Días restantes hasta el fin de semana:\", diasHastaFinSemana)\n",
        "elif dia == 1 or dia == 7:\n",
        "    print(\"Fin de semana\")\n",
        "else:\n",
        "    print(\"La semana solo tiene 7 días\")\n"
      ]
    },
    {
      "cell_type": "markdown",
      "metadata": {
        "id": "slOByjuO81kK"
      },
      "source": [
        "## Ejercicio\n",
        "\n",
        "Realizar un programa que pida al usuario un tipo de vehiculo (Carro, Camion, Moto) y que imprima a que hora del dia puede circular dependiendo del tipo ingresado. Si el usuario ingresa un tipo de vehiculo distinto debe mostrar un mensaje indicando el error."
      ]
    },
    {
      "cell_type": "code",
      "execution_count": null,
      "metadata": {
        "colab": {
          "base_uri": "https://localhost:8080/"
        },
        "id": "SExwxnNT81kK",
        "outputId": "40aa5d54-f697-4fa9-97d7-686300f11e66"
      },
      "outputs": [
        {
          "name": "stdout",
          "output_type": "stream",
          "text": [
            "En qué vehículo se desplaza (Carro/Camion/Moto):\n",
            "Carro\n",
            "Puedes pasar de 00:00 a 08:00\n"
          ]
        }
      ],
      "source": [
        "# Variable para leer el tipo de vehículo\n",
        "print(\"En qué vehículo se desplaza (Carro/Camion/Moto):\")\n",
        "tipoVehiculo = input()\n",
        "\n",
        "# Lógica utilizando solo condicionales\n",
        "if tipoVehiculo == \"Carro\":\n",
        "    print(\"Puedes pasar de 00:00 a 08:00\")\n",
        "elif tipoVehiculo == \"Camion\":\n",
        "    print(\"Puedes pasar de 08:00 a 16:00\")\n",
        "elif tipoVehiculo == \"Moto\":\n",
        "    print(\"Puedes pasar de 16:00 a 24:00\")\n",
        "else:\n",
        "    print(\"No se puede pasar con un \" + tipoVehiculo)\n"
      ]
    },
    {
      "cell_type": "markdown",
      "metadata": {
        "id": "U3ezNGV-81kK"
      },
      "source": [
        "## Ejercicio\n",
        "\n",
        "Realizar un programa que simule el juego 'Piedra, Papel o Tijera'. El usuario debe ingresar Piedra, Papel o Tijera, y competirá con la computadora.\n",
        "\n",
        "El usuario debe ingresar un numero entero (1 = Piedra, 2 = Papel, 3 = Tijera) e imprimir uno de los tres posibles resultados (ganar, perder o empatar)."
      ]
    },
    {
      "cell_type": "code",
      "execution_count": null,
      "metadata": {
        "colab": {
          "base_uri": "https://localhost:8080/"
        },
        "id": "rLiFEw_O81kK",
        "outputId": "62855cc2-efe1-4824-b50a-6508eb527127"
      },
      "outputs": [
        {
          "name": "stdout",
          "output_type": "stream",
          "text": [
            "----------- Piedra, Papel o Tijera -----------\n",
            "La computadora ya escogió...\n",
            "Ingrese su opción [1=Piedra, 2=Papel, 3=Tijera]: \n",
            "2\n",
            "La computadora había escogido:\n",
            "Tijera\n",
            "La computadora gana!\n"
          ]
        }
      ],
      "source": [
        "import random\n",
        "\n",
        "print(\"----------- Piedra, Papel o Tijera -----------\")\n",
        "\n",
        "seleccionCompu = random.randint(1, 3)  # Variable de tipo entero (1, 2 o 3) al azar\n",
        "print(\"La computadora ya escogió...\")\n",
        "\n",
        "# Leer opción del usuario\n",
        "print(\"Ingrese su opción [1=Piedra, 2=Papel, 3=Tijera]: \")\n",
        "seleccionUsuario = int(input())\n",
        "\n",
        "# Lógica\n",
        "print(\"La computadora había escogido:\")\n",
        "if seleccionCompu == 1:\n",
        "    print(\"Piedra\")\n",
        "    if seleccionUsuario == 1:\n",
        "        print(\"Empate!\")\n",
        "    elif seleccionUsuario == 2:\n",
        "        print(\"Usted gana!\")\n",
        "    elif seleccionUsuario == 3:\n",
        "        print(\"La computadora gana!\")\n",
        "    else:\n",
        "        print(\"Su opción no es válida, vuelva a intentarlo\")\n",
        "elif seleccionCompu == 2:\n",
        "    print(\"Papel\")\n",
        "    if seleccionUsuario == 1:\n",
        "        print(\"La computadora gana!\")\n",
        "    elif seleccionUsuario == 2:\n",
        "        print(\"Empate!\")\n",
        "    elif seleccionUsuario == 3:\n",
        "        print(\"Usted gana!\")\n",
        "    else:\n",
        "        print(\"Su opción no es válida, vuelva a intentarlo\")\n",
        "elif seleccionCompu == 3:\n",
        "    print(\"Tijera\")\n",
        "    if seleccionUsuario == 1:\n",
        "        print(\"Usted gana!\")\n",
        "    elif seleccionUsuario == 2:\n",
        "        print(\"La computadora gana!\")\n",
        "    elif seleccionUsuario == 3:\n",
        "        print(\"Empate!\")\n",
        "    else:\n",
        "        print(\"Su opción no es válida, vuelva a intentarlo\")\n"
      ]
    },
    {
      "cell_type": "markdown",
      "metadata": {
        "id": "oLumoLFA81kL"
      },
      "source": [
        "## Ejercicio\n",
        "\n",
        "Hacer un programa que simule un cajero automático con un saldo inicial de $1000$ dólares, con el siguiente menú de opciones:\n",
        "\n",
        "    1. Ingresar dinero a la cuenta.\n",
        "    2. Retirar dinero de la cuenta.\n",
        "    3. Salir.\n",
        "\n",
        "Para cada opción debe imprimir un mensaje. Si el saldo a retirar es mayor al que tiene en la cuenta tambien debe indicarlo en pantalla."
      ]
    },
    {
      "cell_type": "code",
      "execution_count": null,
      "metadata": {
        "colab": {
          "base_uri": "https://localhost:8080/"
        },
        "id": "b3I6GMTX81kL",
        "outputId": "8a902c99-6e28-424e-e377-659a0c0c48ea"
      },
      "outputs": [
        {
          "name": "stdout",
          "output_type": "stream",
          "text": [
            "1. Ingresar dinero a la cuenta\n",
            "2. Retirar dinero de la cuenta.\n",
            "3. Salir.\n",
            "Ingresar la opción: 1\n",
            "Ingrese la cantidad que desea ingresar en la cuenta: 457\n",
            "El saldo actual es: 1457.0\n"
          ]
        }
      ],
      "source": [
        "# Definir variables\n",
        "saldo_inicial = 1000\n",
        "opcion = 0\n",
        "ingreso = 0.0\n",
        "saldoActual = 0.0\n",
        "retiro = 0.0\n",
        "\n",
        "# Mostrar menú\n",
        "print(\"1. Ingresar dinero a la cuenta\")\n",
        "print(\"2. Retirar dinero de la cuenta.\")\n",
        "print(\"3. Salir.\")\n",
        "\n",
        "# Variable de tipo input para leer otras variables\n",
        "opcion = int(input(\"Ingresar la opción: \"))\n",
        "\n",
        "# Lógica\n",
        "if opcion == 1:\n",
        "    ingreso = float(input(\"Ingrese la cantidad que desea ingresar en la cuenta: \"))\n",
        "    saldoActual = saldo_inicial + ingreso\n",
        "    print(\"El saldo actual es:\", saldoActual)\n",
        "elif opcion == 2:\n",
        "    retiro = float(input(\"Ingrese la cantidad que desea retirar: \"))\n",
        "    if retiro <= saldo_inicial:\n",
        "        saldoActual = saldo_inicial - retiro\n",
        "        print(\"Dinero en la cuenta:\", saldoActual)\n",
        "    else:\n",
        "        print(\"No cuenta con el saldo suficiente\")\n",
        "elif opcion == 3:\n",
        "    print(\"Hasta luego...\")\n",
        "else:\n",
        "    print(\"Opción no válida, intente de nuevo.\")\n"
      ]
    },
    {
      "cell_type": "markdown",
      "metadata": {
        "id": "TVUdvNvn81kL"
      },
      "source": [
        "\n",
        "## Hazlo tú mismo ✏️\n",
        "\n",
        "#### Ejercicio 1:\n",
        "\n",
        "Realizar un programa que determine si un estudiante ha aprobado o no un examen. Para aprobar el examen, el estudiante debe obtener una calificación de al menos $60$ en el examen escrito y una calificación de al menos $80$ en el examen oral. Además, si la calificación total del examen (promedio de las calificaciones) es superior o igual a $90$, el estudiante recibe una mención honorífica.\n",
        "\n",
        "- **Nota:** Debe ingresar como minimo 4 estudiantes con su respectivas notas.\n",
        "\n",
        "\n",
        "\n",
        "#### Ejercicio 2:\n",
        "\n",
        "Tienes una tienda de ropa y deseas calcular el precio final de una compra de un cliente. La tienda ofrece un descuento del $10\\%$ en todas las compras que superen los $\\$100$, y un descuento adicional del $5\\%$ si el cliente tiene una tarjeta de membresía de la tienda. Además, la tienda cobra una tarifa de envío de $\\$5$ para todas las compras que se envían por correo. Si el cliente gasta más de $\\$200$, la tienda cubre el costo de envío.\n",
        "\n",
        "\n",
        "\n"
      ]
    },
    {
      "cell_type": "code",
      "execution_count": null,
      "metadata": {
        "id": "yav2fZfy9qB_"
      },
      "outputs": [],
      "source": [
        "def calcular_precio_final(total_compra, tiene_membresia, envio_por_correo):\n",
        "    descuento = 0\n",
        "\n",
        "    # Descuento del 10% si la compra es mayor a $100\n",
        "    if total_compra > 100:\n",
        "        descuento += 0.10\n",
        "\n",
        "    # Descuento adicional del 5% si el cliente tiene membresía\n",
        "    if tiene_membresia:\n",
        "        descuento += 0.05\n",
        "\n",
        "    # Aplicar descuento\n",
        "    total_con_descuento = total_compra * (1 - descuento)\n",
        "\n",
        "    # Calcular costo de envío\n",
        "    costo_envio = 0\n",
        "    if envio_por_correo:\n",
        "        if total_con_descuento <= 200:\n",
        "            costo_envio = 5  # Se cobra si la compra no supera $200\n",
        "\n",
        "    # Precio final\n",
        "    precio_final = total_con_descuento + costo_envio\n",
        "\n",
        "    return round(precio_final, 2)\n",
        "\n",
        "# Entrada de datos\n",
        "total_compra = float(input(\"Ingrese el total de la compra: $\"))\n",
        "tiene_membresia = input(\"¿El cliente tiene membresía? (s/n): \").strip().lower() == 's'\n",
        "envio_por_correo = input(\"¿Se enviará por correo? (s/n): \").strip().lower() == 's'\n",
        "\n",
        "# Calcular el precio final\n",
        "precio_final = calcular_precio_final(total_compra, tiene_membresia, envio_por_correo)\n",
        "\n",
        "# Mostrar resultado\n",
        "print(f\"El precio final de la compra es: ${precio_final}\")\n"
      ]
    }
  ],
  "metadata": {
    "colab": {
      "collapsed_sections": [
        "U85SglinHMdW",
        "rOMbU6OmL6K5",
        "wsFAEwnKMIYt",
        "E9zeyBlNNTm7",
        "mUlIjZUHUB3U",
        "igXedies81kG",
        "IaH4r5yy81kH",
        "trNnhYPN81kH",
        "6csorExy81kH",
        "vkVHhWVL81kI",
        "V34bHIHL81kI",
        "oiHvFgQw81kI",
        "Rqgh9sLk81kI",
        "k4KW3cbX81kJ",
        "KLg9yAj681kJ",
        "MSxKhbc981kK",
        "slOByjuO81kK",
        "U3ezNGV-81kK",
        "oLumoLFA81kL"
      ],
      "provenance": []
    },
    "kernelspec": {
      "display_name": "Python 3",
      "name": "python3"
    },
    "language_info": {
      "name": "python"
    }
  },
  "nbformat": 4,
  "nbformat_minor": 0
}
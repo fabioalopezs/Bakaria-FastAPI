{
  "nbformat": 4,
  "nbformat_minor": 0,
  "metadata": {
    "colab": {
      "provenance": [],
      "collapsed_sections": [
        "-abLZOnZFxCt"
      ]
    },
    "kernelspec": {
      "name": "python3",
      "display_name": "Python 3"
    },
    "language_info": {
      "name": "python"
    }
  },
  "cells": [
    {
      "cell_type": "markdown",
      "source": [
        "# Operaciones con Listas, Tuplas y Diccionarios\n",
        "\n",
        "Las listas y tuplas son estructuras de datos fundamentales en Python que se utilizan para almacenar colecciones de elementos. Las listas son mutables, lo que significa que sus elementos se pueden cambiar después de haber sido creadas, mientras que las tuplas son inmutables.\n",
        "\n",
        "\n",
        "<img src=\"https://miro.medium.com/v2/resize:fit:1400/0*hZ1kX3Zlr9NheJvu.jpeg\">\n",
        "\n"
      ],
      "metadata": {
        "id": "d4R6Vsp8BGKq"
      }
    },
    {
      "cell_type": "markdown",
      "source": [
        "## Listas\n",
        "\n",
        "Las listas son colecciones ordenadas de elementos que pueden ser modificadas.\n",
        "\n",
        "\n",
        "<img src=\"https://elpythonista.com/wp-content/uploads/2020/11/Listas_En_Python.jpg\" width=500>"
      ],
      "metadata": {
        "id": "3wC63J5YFtY0"
      }
    },
    {
      "cell_type": "code",
      "execution_count": null,
      "metadata": {
        "colab": {
          "base_uri": "https://localhost:8080/"
        },
        "id": "XY0DOCBq_zsd",
        "outputId": "ee81f893-8ec4-4264-d7d6-15af1eb7df01"
      },
      "outputs": [
        {
          "output_type": "stream",
          "name": "stdout",
          "text": [
            "[[2, 3, 1, 3, 4, 5, 7, 6], 'Vamos con texto', 1, 4.6, True, False]\n"
          ]
        }
      ],
      "source": [
        "# Crear una lista\n",
        "mi_lista = [2,3,1,3,4,5,7,6]\n",
        "mi_lista2 = list([mi_lista,'Vamos con texto',1,4.6, True, False])\n",
        "print(mi_lista2)"
      ]
    },
    {
      "cell_type": "code",
      "source": [
        "# Acceder a los elementos\n",
        "primer_elemento = mi_lista[0]\n",
        "ultimo_elemento = mi_lista[-1]\n",
        "sublista = mi_lista[0:2]\n",
        "print(primer_elemento, ultimo_elemento)\n",
        "print(sublista)"
      ],
      "metadata": {
        "colab": {
          "base_uri": "https://localhost:8080/"
        },
        "id": "sziT-flDsfSk",
        "outputId": "10a01b70-75fb-4372-d3b1-d844dc7dbbc6"
      },
      "execution_count": 4,
      "outputs": [
        {
          "output_type": "stream",
          "name": "stdout",
          "text": [
            "2 6\n",
            "[2, 3]\n"
          ]
        }
      ]
    },
    {
      "cell_type": "code",
      "source": [
        "# Modificar el contenido\n",
        "mi_lista[2] = 10\n",
        "print(mi_lista)"
      ],
      "metadata": {
        "colab": {
          "base_uri": "https://localhost:8080/"
        },
        "id": "wpVjp5nzuFOn",
        "outputId": "0c2198ac-17ae-4817-a9b2-b3d62a3429b1"
      },
      "execution_count": 5,
      "outputs": [
        {
          "output_type": "stream",
          "name": "stdout",
          "text": [
            "[2, 3, 10, 3, 4, 5, 7, 6]\n"
          ]
        }
      ]
    },
    {
      "cell_type": "code",
      "source": [
        "# Agregar elementos\n",
        "mi_lista.append(6)\n",
        "mi_lista.append(10)\n",
        "print(mi_lista)"
      ],
      "metadata": {
        "colab": {
          "base_uri": "https://localhost:8080/"
        },
        "id": "O7bv85IbuPwo",
        "outputId": "43b96658-e66b-466f-8fc4-fe9934836816"
      },
      "execution_count": 6,
      "outputs": [
        {
          "output_type": "stream",
          "name": "stdout",
          "text": [
            "[2, 3, 10, 3, 4, 5, 7, 6, 6, 10]\n"
          ]
        }
      ]
    },
    {
      "cell_type": "code",
      "source": [
        "# Eliminar elementos\n",
        "mi_lista.remove(10)\n",
        "print(mi_lista)"
      ],
      "metadata": {
        "colab": {
          "base_uri": "https://localhost:8080/"
        },
        "id": "hsyWSclVuUrN",
        "outputId": "c0e1805c-f290-40a4-be06-13612e994147"
      },
      "execution_count": 7,
      "outputs": [
        {
          "output_type": "stream",
          "name": "stdout",
          "text": [
            "[2, 3, 3, 4, 5, 7, 6, 6, 10]\n"
          ]
        }
      ]
    },
    {
      "cell_type": "code",
      "source": [
        "# Insertar elemento en una posición específica\n",
        "mi_lista.insert(2, 10)\n",
        "print(mi_lista)"
      ],
      "metadata": {
        "colab": {
          "base_uri": "https://localhost:8080/"
        },
        "id": "LuuTCXSowfcU",
        "outputId": "1c8ca50f-e972-44bc-b98e-e1b7e7986e26"
      },
      "execution_count": 8,
      "outputs": [
        {
          "output_type": "stream",
          "name": "stdout",
          "text": [
            "[2, 3, 10, 3, 4, 5, 7, 6, 6, 10]\n"
          ]
        }
      ]
    },
    {
      "cell_type": "code",
      "source": [
        "# Eliminar en una posición específica\n",
        "elemento = mi_lista.pop(2) # Si no se coloca posición se elimina el último.\n",
        "print(mi_lista)\n",
        "print(elemento)"
      ],
      "metadata": {
        "colab": {
          "base_uri": "https://localhost:8080/"
        },
        "id": "JTxiWoQswnqJ",
        "outputId": "79ee30e8-a0ee-4402-ad3e-991f89c07b80"
      },
      "execution_count": 9,
      "outputs": [
        {
          "output_type": "stream",
          "name": "stdout",
          "text": [
            "[2, 3, 3, 4, 5, 7, 6, 6, 10]\n",
            "10\n"
          ]
        }
      ]
    },
    {
      "cell_type": "code",
      "source": [
        "# Logitud de lista\n",
        "longitud = len(mi_lista)\n",
        "print(longitud)"
      ],
      "metadata": {
        "colab": {
          "base_uri": "https://localhost:8080/"
        },
        "id": "S1cQvKQTuXzw",
        "outputId": "5043397c-f308-4d3e-8210-13f1b57c5ae5"
      },
      "execution_count": 10,
      "outputs": [
        {
          "output_type": "stream",
          "name": "stdout",
          "text": [
            "9\n"
          ]
        }
      ]
    },
    {
      "cell_type": "code",
      "source": [
        "# Ordenar lista\n",
        "ordenada = list(sorted(mi_lista))\n",
        "print(ordenada)"
      ],
      "metadata": {
        "colab": {
          "base_uri": "https://localhost:8080/"
        },
        "id": "d0EmlFvgucE6",
        "outputId": "59e5fcc5-9642-40a0-a7b5-dc9ac2012995"
      },
      "execution_count": 11,
      "outputs": [
        {
          "output_type": "stream",
          "name": "stdout",
          "text": [
            "[2, 3, 3, 4, 5, 6, 6, 7, 10]\n"
          ]
        }
      ]
    },
    {
      "cell_type": "code",
      "source": [
        "# Sumar elementos de la lista\n",
        "suma = sum(mi_lista)\n",
        "print(suma)"
      ],
      "metadata": {
        "colab": {
          "base_uri": "https://localhost:8080/"
        },
        "id": "TjK5pJ3ovLqg",
        "outputId": "ea5ffcc3-ea93-46ce-fbae-03ad8c543bf5"
      },
      "execution_count": 12,
      "outputs": [
        {
          "output_type": "stream",
          "name": "stdout",
          "text": [
            "46\n"
          ]
        }
      ]
    },
    {
      "cell_type": "code",
      "source": [
        "# Buscar elementos\n",
        "2 in mi_lista"
      ],
      "metadata": {
        "colab": {
          "base_uri": "https://localhost:8080/"
        },
        "id": "7G4y7oJI-GZv",
        "outputId": "0ea06955-ff3e-4afb-8fdf-1ae4c513b98f"
      },
      "execution_count": 13,
      "outputs": [
        {
          "output_type": "execute_result",
          "data": {
            "text/plain": [
              "True"
            ]
          },
          "metadata": {},
          "execution_count": 13
        }
      ]
    },
    {
      "cell_type": "code",
      "source": [
        "# Buscar elementos en una lista\n",
        "'Vamos con texto' in mi_lista2"
      ],
      "metadata": {
        "colab": {
          "base_uri": "https://localhost:8080/"
        },
        "id": "4XvwzTpa-OyU",
        "outputId": "e5bb28e9-85bb-449d-8563-d29df806976b"
      },
      "execution_count": 14,
      "outputs": [
        {
          "output_type": "execute_result",
          "data": {
            "text/plain": [
              "True"
            ]
          },
          "metadata": {},
          "execution_count": 14
        }
      ]
    },
    {
      "cell_type": "markdown",
      "source": [
        "## Tuplas\n",
        "\n",
        "Las tuplas son colecciones ordenadas de elementos que **NO** pueden ser modificadas después de su creación.\n",
        "\n",
        "<img src=\"https://elpythonista.com/wp-content/uploads/2020/11/Tuplas_En_Python.jpg\" width=500>\n"
      ],
      "metadata": {
        "id": "cZxXgU15v_XH"
      }
    },
    {
      "cell_type": "code",
      "source": [
        "# Sintáxis de una tupla\n",
        "mi_tupla = (1, 2, 3, 4, 5,1,2,4,2,2,2)\n",
        "mi_otra_tupla = tuple([1, 2, 3, 4, 5])\n",
        "print(mi_tupla)\n",
        "print(mi_otra_tupla)"
      ],
      "metadata": {
        "colab": {
          "base_uri": "https://localhost:8080/"
        },
        "id": "rdupd5rswGi9",
        "outputId": "e15aeee6-b878-4da5-de66-620c2c0f7d47"
      },
      "execution_count": 16,
      "outputs": [
        {
          "output_type": "stream",
          "name": "stdout",
          "text": [
            "(1, 2, 3, 4, 5, 1, 2, 4, 2, 2, 2)\n",
            "(1, 2, 3, 4, 5)\n"
          ]
        }
      ]
    },
    {
      "cell_type": "code",
      "source": [
        "# Acceder a elementos de una tupla\n",
        "primer_elemento = mi_tupla[0]\n",
        "ultimo_elemento = mi_tupla[-1]\n",
        "print(primer_elemento, ultimo_elemento)"
      ],
      "metadata": {
        "colab": {
          "base_uri": "https://localhost:8080/"
        },
        "id": "edQ60C73wGYe",
        "outputId": "f6fac160-a5e0-46d0-bdd5-508bd960d2aa"
      },
      "execution_count": 17,
      "outputs": [
        {
          "output_type": "stream",
          "name": "stdout",
          "text": [
            "1 2\n"
          ]
        }
      ]
    },
    {
      "cell_type": "code",
      "source": [
        "# Longiutd de la tupla\n",
        "longitud = len(mi_tupla)\n",
        "print(longitud)"
      ],
      "metadata": {
        "colab": {
          "base_uri": "https://localhost:8080/"
        },
        "id": "zI08oLMMwGWT",
        "outputId": "b655169e-939a-4fdb-87a3-e1998046e179"
      },
      "execution_count": 18,
      "outputs": [
        {
          "output_type": "stream",
          "name": "stdout",
          "text": [
            "11\n"
          ]
        }
      ]
    },
    {
      "cell_type": "code",
      "source": [
        "# Otras operaciones\n",
        "print('cuantas veces hay un elemento=',mi_tupla.count(2))\n",
        "print('dice en que posicion esta el elemento=',mi_tupla.index(4))\n",
        "#tupla[0]=2# dado que es una TUPLA no se puede agregar ni borrar información."
      ],
      "metadata": {
        "colab": {
          "base_uri": "https://localhost:8080/"
        },
        "id": "Dyp-fYvo8Rbz",
        "outputId": "fea3868f-7e6a-4818-ce5f-a12b8d0072a7"
      },
      "execution_count": 19,
      "outputs": [
        {
          "output_type": "stream",
          "name": "stdout",
          "text": [
            "cuantas veces hay un elemento= 5\n",
            "dice en que posicion esta el elemento= 3\n"
          ]
        }
      ]
    },
    {
      "cell_type": "markdown",
      "source": [
        "### Ejemplo\n",
        "\n",
        "1. Crear una lista con nombres de tus amigos.\n",
        "2.\tAgregar un nuevo nombre al final de la lista.\n",
        "3.\tReemplazar el segundo nombre con otro nombre.\n",
        "4.\tEliminar el último nombre de la lista.\n",
        "5.\tCrear una tupla con los nombres restantes.\n",
        "6.\tImprimir el primer y último nombre de la tupla."
      ],
      "metadata": {
        "id": "TKjbidEDyCu3"
      }
    },
    {
      "cell_type": "code",
      "source": [
        "# Tu código va acá\n",
        "# Crear una lista con nombres de amigos\n",
        "amigos = [\"Ana\", \"Juan\", \"María\", \"Pedro\"]\n",
        "\n",
        "# Agregar un nuevo nombre al final de la lista\n",
        "amigos.append(\"Luis\")\n",
        "\n",
        "# Reemplazar el segundo nombre con otro nombre\n",
        "amigos[1] = \"Alanna\"\n",
        "\n",
        "# Eliminar el último nombre de la lista\n",
        "amigos.pop()\n",
        "\n",
        "# Crear una tupla con los nombres restantes\n",
        "amigos_tupla = tuple(amigos)\n",
        "\n",
        "# Imprimir el primer y último nombre de la tupla\n",
        "print(\"Primer nombre:\", amigos_tupla[0])\n",
        "print(\"Último nombre:\", amigos_tupla[len(amigos_tupla)-1])"
      ],
      "metadata": {
        "id": "Eu_XvKFgyNPx",
        "outputId": "fc0d1384-59e5-48ee-dfcb-2975eaa8d194",
        "colab": {
          "base_uri": "https://localhost:8080/"
        }
      },
      "execution_count": 23,
      "outputs": [
        {
          "output_type": "stream",
          "name": "stdout",
          "text": [
            "Primer nombre: Ana\n",
            "Último nombre: Pedro\n"
          ]
        }
      ]
    },
    {
      "cell_type": "markdown",
      "source": [
        "## Diccionarios\n",
        "\n",
        "Los diccionarios son colecciones de pares clave-valor. Cada clave se asocia con un valor y se puede utilizar para acceder a ese valor.\n",
        "\n",
        "<img src=\"https://elpythonista.com/wp-content/uploads/2020/12/Diccionarios_En_Python.jpg\" width=500>\n",
        "\n"
      ],
      "metadata": {
        "id": "-abLZOnZFxCt"
      }
    },
    {
      "cell_type": "code",
      "source": [
        "# Crear un diccionario\n",
        "mi_diccionario = {\"nombre\": \"Juan\", \"edad\": 30, \"ciudad\": \"Madrid\"}\n",
        "print(mi_diccionario)"
      ],
      "metadata": {
        "colab": {
          "base_uri": "https://localhost:8080/"
        },
        "id": "xqiX7vwMF3Bm",
        "outputId": "109b1088-c620-4d4a-acb7-b196d5a53955"
      },
      "execution_count": null,
      "outputs": [
        {
          "output_type": "stream",
          "name": "stdout",
          "text": [
            "{'nombre': 'Juan', 'edad': 30, 'ciudad': 'Madrid'}\n"
          ]
        }
      ]
    },
    {
      "cell_type": "code",
      "source": [
        "# Acceder a valores\n",
        "nombre = mi_diccionario[\"nombre\"]\n",
        "print(nombre)"
      ],
      "metadata": {
        "colab": {
          "base_uri": "https://localhost:8080/"
        },
        "id": "Y_IL_UcjyzgY",
        "outputId": "f960668a-c1f5-48f1-db2d-021dd7e2aac8"
      },
      "execution_count": null,
      "outputs": [
        {
          "output_type": "stream",
          "name": "stdout",
          "text": [
            "Juan\n"
          ]
        }
      ]
    },
    {
      "cell_type": "code",
      "source": [
        "# Agregar o modificar elementos\n",
        "mi_diccionario[\"edad\"] = 31\n",
        "mi_diccionario[\"profesion\"] = \"Ingeniero\" # Note que esta llave no existía, por lo que se crea.\n",
        "print(mi_diccionario)"
      ],
      "metadata": {
        "colab": {
          "base_uri": "https://localhost:8080/"
        },
        "id": "2gQGebS3y4FU",
        "outputId": "5879d7f4-bc84-4f98-d1ed-ed9de1349027"
      },
      "execution_count": null,
      "outputs": [
        {
          "output_type": "stream",
          "name": "stdout",
          "text": [
            "{'nombre': 'Juan', 'edad': 31, 'ciudad': 'Madrid', 'profesion': 'Ingeniero'}\n"
          ]
        }
      ]
    },
    {
      "cell_type": "code",
      "source": [
        "# Eliminar elementos\n",
        "del mi_diccionario[\"ciudad\"]\n",
        "print(mi_diccionario)"
      ],
      "metadata": {
        "colab": {
          "base_uri": "https://localhost:8080/"
        },
        "id": "Fu6acffXzARG",
        "outputId": "462993df-8e62-40c5-ede1-46a48e923f38"
      },
      "execution_count": null,
      "outputs": [
        {
          "output_type": "stream",
          "name": "stdout",
          "text": [
            "{'nombre': 'Juan', 'edad': 31, 'profesion': 'Ingeniero'}\n"
          ]
        }
      ]
    },
    {
      "cell_type": "code",
      "source": [
        "# Obtener todas las llaves o todos los valores como una lista\n",
        "todos = mi_diccionario.items()\n",
        "claves = mi_diccionario.keys()\n",
        "valores = mi_diccionario.values()\n",
        "print(todos)\n",
        "print(claves)\n",
        "print(valores)"
      ],
      "metadata": {
        "colab": {
          "base_uri": "https://localhost:8080/"
        },
        "id": "AgVNmGbNzDgw",
        "outputId": "1bfcb667-ff41-49a8-84e0-0b219bd4dfc2"
      },
      "execution_count": null,
      "outputs": [
        {
          "output_type": "stream",
          "name": "stdout",
          "text": [
            "dict_items([('nombre', 'Juan'), ('profesion', 'Ingeniero'), ('pais', 'España')])\n",
            "dict_keys(['nombre', 'profesion', 'pais'])\n",
            "dict_values(['Juan', 'Ingeniero', 'España'])\n"
          ]
        }
      ]
    },
    {
      "cell_type": "code",
      "source": [
        "# Definir una variable diccionario\n",
        "futbolistas = dict()\n",
        "\n",
        "futbolistas = {\n",
        "    1: \"Casillas\", 6: \"Iniesta\",3: \"Piqué\",\n",
        "    5: \"Puyol\",\n",
        "    7: \"Villa\", 8: \"Xavi Hernández\",\n",
        "    9: \"Torres\", 11: \"Capdevila\",\n",
        "    14: \"Xavi Alonso\", 15: \"Ramos\",\n",
        "    16: \"Busquets\"\n",
        "}\n",
        "futbolistas.items()"
      ],
      "metadata": {
        "colab": {
          "base_uri": "https://localhost:8080/"
        },
        "id": "paYfj2Ci9ArW",
        "outputId": "c6d91737-a673-4d85-99a5-f5dea038b581"
      },
      "execution_count": null,
      "outputs": [
        {
          "output_type": "execute_result",
          "data": {
            "text/plain": [
              "dict_items([(1, 'Casillas'), (6, 'Iniesta'), (3, 'Piqué'), (5, 'Puyol'), (7, 'Villa'), (8, 'Xavi Hernández'), (9, 'Torres'), (11, 'Capdevila'), (14, 'Xavi Alonso'), (15, 'Ramos'), (16, 'Busquets')])"
            ]
          },
          "metadata": {},
          "execution_count": 54
        }
      ]
    },
    {
      "cell_type": "code",
      "source": [
        "# Métodos para obtener el valor de un diccionario teniendo un valor\n",
        "profesion = mi_diccionario.get(\"profesion\", \"Desconocido\") # Qué pasaría si\n",
        "print(profesion)"
      ],
      "metadata": {
        "colab": {
          "base_uri": "https://localhost:8080/"
        },
        "id": "VptY38-2zGVG",
        "outputId": "66b6c496-8b80-48a5-e23c-c288135f41ad"
      },
      "execution_count": null,
      "outputs": [
        {
          "output_type": "stream",
          "name": "stdout",
          "text": [
            "Ingeniero\n"
          ]
        }
      ]
    },
    {
      "cell_type": "code",
      "source": [
        "# Actualizar\n",
        "otro_diccionario = {\"pais\": \"España\", \"edad\": 32}\n",
        "mi_diccionario.update(otro_diccionario)\n",
        "print(mi_diccionario)"
      ],
      "metadata": {
        "colab": {
          "base_uri": "https://localhost:8080/"
        },
        "id": "7TzXQs6Y0J_X",
        "outputId": "a44f64da-a50e-4008-ab75-3609da5f199d"
      },
      "execution_count": null,
      "outputs": [
        {
          "output_type": "stream",
          "name": "stdout",
          "text": [
            "{'nombre': 'Juan', 'edad': 32, 'profesion': 'Ingeniero', 'pais': 'España'}\n"
          ]
        }
      ]
    },
    {
      "cell_type": "code",
      "source": [
        "# Eliminar\n",
        "edad = mi_diccionario.pop(\"edad\") # Note que queda guardado el elemento eliminado.\n",
        "print(mi_diccionario)\n",
        "print(edad)"
      ],
      "metadata": {
        "colab": {
          "base_uri": "https://localhost:8080/"
        },
        "id": "Smtwv_tr00mU",
        "outputId": "811aa8e0-ed87-4782-baeb-92270ed67606"
      },
      "execution_count": null,
      "outputs": [
        {
          "output_type": "stream",
          "name": "stdout",
          "text": [
            "{'nombre': 'Juan', 'profesion': 'Ingeniero', 'pais': 'España'}\n",
            "32\n"
          ]
        }
      ]
    },
    {
      "cell_type": "markdown",
      "source": [
        "### Ejemplo\n",
        "\n",
        "1.\tCrear un diccionario con información de un libro (título, autor, año).\n",
        "2.\tAgregar una nueva clave-valor para el género del libro.\n",
        "3.\tModificar el año de publicación.\n",
        "4.\tEliminar la clave del género.\n",
        "5.\tObtener todas las claves y valores del diccionario.\n",
        "6.\tObtener el valor de la clave “autor” utilizando get()."
      ],
      "metadata": {
        "id": "ESIdMORg1GVn"
      }
    },
    {
      "cell_type": "code",
      "source": [
        "# Tu código va acá"
      ],
      "metadata": {
        "id": "fFDHTSxs05tX"
      },
      "execution_count": null,
      "outputs": []
    },
    {
      "cell_type": "markdown",
      "source": [
        "## Ejercicio 1: Gestor de Inventario de Equipos de Oficina\n",
        "\n",
        "Crea un programa que gestione el inventario de equipos de oficina para una institución pública. Debe permitir agregar equipos con su nombre, cantidad y estado (nuevo, usado, en reparación). Además, debe permitir actualizar la cantidad de un equipo, cambiar el estado de un equipo, eliminar un equipo y mostrar el inventario completo.\n",
        "\n",
        "1.\tCrear un diccionario para el inventario.\n",
        "2.\tAgregar al menos tres equipos al inventario con su nombre, cantidad y estado.\n",
        "3.\tModificar la cantidad de uno de los equipos.\n",
        "4.\tCambiar el estado de uno de los equipos.\n",
        "5.\tEliminar uno de los equipos.\n",
        "6.\tImprimir el inventario completo, mostrando el nombre, cantidad y estado de cada equipo."
      ],
      "metadata": {
        "id": "tKhYE5CZ1jyC"
      }
    },
    {
      "cell_type": "code",
      "source": [
        "inventario = {\n",
        "    \"Impresora\": {\"cantidad\": 10, \"estado\": \"nuevo\"},\n",
        "    \"Computadora\": {\"cantidad\": 5, \"estado\": \"usado\"},\n",
        "    \"Escáner\": {\"cantidad\": 2, \"estado\": \"en reparación\"}\n",
        "}\n",
        "\n",
        "# Tu código va acá\n",
        "print(inventario)\n",
        "# Agregar teclado, mouse y pantallas\n",
        "inventario[\"Teclado\"] = {\"cantidad\": 20, \"estado\": \"nuevo\"}\n",
        "inventario[\"Mouse\"] = {\"cantidad\": 25, \"estado\": \"nuevo\"}\n",
        "inventario[\"Pantalla\"] = {\"cantidad\": 15, \"estado\": \"usado\"}\n",
        "\n",
        "# Modificar la cantidad de la \"Computadora\" a 7\n",
        "inventario[\"Computadora\"][\"cantidad\"] = 7\n",
        "\n",
        "# Cambiar el estado del \"Escáner\" a \"usado\"\n",
        "inventario[\"Escáner\"][\"estado\"] = \"usado\"\n",
        "\n",
        "\n",
        "# Eliminar el equipo \"Impresora\"\n",
        "del inventario[\"Impresora\"]\n",
        "\n",
        "# Imprimir el inventario actualizado\n",
        "for equipo, datos in inventario.items():\n",
        "    print(f\"Nombre: {equipo}, Cantidad: {datos['cantidad']}, Estado: {datos['estado']}\")"
      ],
      "metadata": {
        "id": "5g1PI8QN10ww",
        "outputId": "a76a7b94-5618-405c-cc7d-0e8280d51aad",
        "colab": {
          "base_uri": "https://localhost:8080/"
        }
      },
      "execution_count": 27,
      "outputs": [
        {
          "output_type": "stream",
          "name": "stdout",
          "text": [
            "{'Impresora': {'cantidad': 10, 'estado': 'nuevo'}, 'Computadora': {'cantidad': 5, 'estado': 'usado'}, 'Escáner': {'cantidad': 2, 'estado': 'en reparación'}}\n",
            "Nombre: Computadora, Cantidad: 7, Estado: usado\n",
            "Nombre: Escáner, Cantidad: 2, Estado: usado\n",
            "Nombre: Teclado, Cantidad: 20, Estado: nuevo\n",
            "Nombre: Mouse, Cantidad: 25, Estado: nuevo\n",
            "Nombre: Pantalla, Cantidad: 15, Estado: usado\n"
          ]
        }
      ]
    },
    {
      "cell_type": "markdown",
      "source": [
        "## Ejercicio 2: Análisis de Datos de Encuestas de Satisfacción\n",
        "\n",
        "Crea un programa que analice los resultados de una encuesta de satisfacción de los usuarios de un servicio público. Debe permitir agregar la información de los usuarios encuestados, incluyendo su edad, nivel de satisfacción (de 1 a 5) y comentarios. Además, debe calcular la satisfacción promedio y mostrar todos los datos almacenados.\n",
        "\n",
        "1.\tCrear una lista para almacenar los datos de los usuarios encuestados.\n",
        "2.\tAgregar al menos cinco usuarios a la lista, donde cada usuario se representa como un diccionario con su edad, nivel de satisfacción y comentarios.\n",
        "3.\tCalcular el nivel de satisfacción promedio de los usuarios encuestados.\n",
        "4.\tImprimir la lista completa de usuarios, mostrando edad, nivel de satisfacción y comentarios de cada uno.\n"
      ],
      "metadata": {
        "id": "xdLz13gX1xiP"
      }
    },
    {
      "cell_type": "code",
      "source": [
        "encuestados = [\n",
        "    {\"edad\": 25, \"satisfaccion\": 4, \"comentarios\": \"Buen servicio\"},\n",
        "    {\"edad\": 30, \"satisfaccion\": 5, \"comentarios\": \"Excelente\"},\n",
        "    {\"edad\": 45, \"satisfaccion\": 3, \"comentarios\": \"Regular\"},\n",
        "    {\"edad\": 50, \"satisfaccion\": 2, \"comentarios\": \"Malo\"},\n",
        "    {\"edad\": 35, \"satisfaccion\": 4, \"comentarios\": \"Bueno\"}\n",
        "]\n",
        "\n",
        "# Tu código va acá\n",
        "# Agregar más usuarios\n",
        "encuestados.append({\"edad\": 28, \"satisfaccion\": 4, \"comentarios\": \"Buen servicio\"})\n",
        "encuestados.append({\"edad\": 60, \"satisfaccion\": 5, \"comentarios\": \"Excelente\"})\n",
        "encuestados.append({\"edad\": 22, \"satisfaccion\": 2, \"comentarios\": \"Malo\"})\n",
        "encuestados.append({\"edad\": 40, \"satisfaccion\": 4, \"comentarios\": \"Bueno\"})\n",
        "encuestados.append({\"edad\": 33, \"satisfaccion\": 2, \"comentarios\": \"Malo\"})\n",
        "\n",
        "# Calcular el nivel de satisfacción promedio\n",
        "total_satisfaccion = 0\n",
        "for usuario in encuestados:\n",
        "    total_satisfaccion += usuario[\"satisfaccion\"]\n",
        "promedio_satisfaccion = total_satisfaccion / len(encuestados)\n",
        "\n",
        "# Imprimir la lista de usuarios completa y actualizada\n",
        "print(\"Lista completa de usuarios:\")\n",
        "for usuario in encuestados:\n",
        "    print(f\"Edad: {usuario['edad']}, Satisfacción: {usuario['satisfaccion']}, Comentarios: {usuario['comentarios']}\")\n",
        "\n",
        "# Imprimir el promedio de satisfacción\n",
        "print(f\"\\nSatisfacción promedio: {promedio_satisfaccion}\")"
      ],
      "metadata": {
        "id": "y4Ot6gMo1MxA",
        "outputId": "7bb9c40d-4162-41cf-b96a-0331fbde4a67",
        "colab": {
          "base_uri": "https://localhost:8080/"
        }
      },
      "execution_count": 29,
      "outputs": [
        {
          "output_type": "stream",
          "name": "stdout",
          "text": [
            "Lista completa de usuarios:\n",
            "Edad: 25, Satisfacción: 4, Comentarios: Buen servicio\n",
            "Edad: 30, Satisfacción: 5, Comentarios: Excelente\n",
            "Edad: 45, Satisfacción: 3, Comentarios: Regular\n",
            "Edad: 50, Satisfacción: 2, Comentarios: Malo\n",
            "Edad: 35, Satisfacción: 4, Comentarios: Bueno\n",
            "Edad: 28, Satisfacción: 4, Comentarios: Buen servicio\n",
            "Edad: 60, Satisfacción: 5, Comentarios: Excelente\n",
            "Edad: 22, Satisfacción: 2, Comentarios: Malo\n",
            "Edad: 40, Satisfacción: 4, Comentarios: Bueno\n",
            "Edad: 33, Satisfacción: 2, Comentarios: Malo\n",
            "\n",
            "Satisfacción promedio: 3.5\n"
          ]
        }
      ]
    },
    {
      "cell_type": "code",
      "source": [],
      "metadata": {
        "id": "YKWIhJkQ2Xq2"
      },
      "execution_count": null,
      "outputs": []
    }
  ]
}